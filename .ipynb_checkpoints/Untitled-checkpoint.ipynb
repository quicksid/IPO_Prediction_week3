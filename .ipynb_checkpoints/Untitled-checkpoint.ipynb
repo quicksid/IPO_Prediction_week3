{
 "cells": [
  {
   "cell_type": "code",
   "execution_count": 1,
   "id": "d5fbc23a",
   "metadata": {},
   "outputs": [],
   "source": [
    "# Import necessary libraries\n",
    "import pandas as pd\n",
    "import random\n",
    "from sklearn.preprocessing import StandardScaler\n",
    "from sklearn.ensemble import RandomForestRegressor, RandomForestClassifier, AdaBoostClassifier\n",
    "import matplotlib.pyplot as plt\n",
    "import seaborn as sns\n",
    "import numpy as np\n",
    "from scipy.stats import boxcox\n",
    "from scipy.special import boxcox1p\n",
    "from sklearn.model_selection import train_test_split, cross_val_score\n",
    "from sklearn.linear_model import LogisticRegression\n",
    "from sklearn.metrics import classification_report, confusion_matrix, accuracy_score\n",
    "from sklearn.datasets import make_classification\n",
    "from sklearn.cluster import KMeans, AgglomerativeClustering\n",
    "from sklearn.tree import DecisionTreeClassifier\n",
    "from sklearn.svm import SVC\n",
    "from scipy.cluster.hierarchy import dendrogram, linkage\n",
    "from bayes_opt import BayesianOptimization\n",
    "from sklearn.neural_network import MLPClassifier\n",
    "from catboost import CatBoostClassifier\n",
    "from xgboost import XGBClassifier"
   ]
  },
  {
   "cell_type": "code",
   "execution_count": 4,
   "id": "20a46ce5",
   "metadata": {},
   "outputs": [],
   "source": [
    "# Read the input data from csv\n",
    "df = pd.read_csv('/Users/siddharthhaveliwala/dataglacierrepos/week-4/IPO_Prediction_week3/data/ipo_report_listing_day_gain.csv')"
   ]
  },
  {
   "cell_type": "code",
   "execution_count": 5,
   "id": "a2ff1669",
   "metadata": {},
   "outputs": [
    {
     "name": "stdout",
     "output_type": "stream",
     "text": [
      "<class 'pandas.core.frame.DataFrame'>\n",
      "RangeIndex: 1429 entries, 0 to 1428\n",
      "Data columns (total 16 columns):\n",
      " #   Column               Non-Null Count  Dtype  \n",
      "---  ------               --------------  -----  \n",
      " 0   Issuer Company       1429 non-null   object \n",
      " 1   Listing Date         1428 non-null   object \n",
      " 2   Issue Price          1429 non-null   float64\n",
      " 3   Lot Size             1391 non-null   float64\n",
      " 4   Issue Price (Rs Cr)  1429 non-null   float64\n",
      " 5   P/E Ratio            356 non-null    float64\n",
      " 6   QIB                  605 non-null    float64\n",
      " 7   NII                  1053 non-null   float64\n",
      " 8   RII                  1049 non-null   float64\n",
      " 9   EMP                  227 non-null    float64\n",
      " 10  TOTAL                1056 non-null   float64\n",
      " 11  Open Price           1427 non-null   float64\n",
      " 12  Low Price            1427 non-null   float64\n",
      " 13  High Price           1427 non-null   float64\n",
      " 14  Close Price          1427 non-null   float64\n",
      " 15  % Change             1427 non-null   float64\n",
      "dtypes: float64(14), object(2)\n",
      "memory usage: 178.8+ KB\n"
     ]
    }
   ],
   "source": [
    "# Summary of dataframe df\n",
    "df.info()"
   ]
  },
  {
   "cell_type": "code",
   "execution_count": 13,
   "id": "8cf6f7f5",
   "metadata": {},
   "outputs": [
    {
     "data": {
      "text/html": [
       "<div>\n",
       "<style scoped>\n",
       "    .dataframe tbody tr th:only-of-type {\n",
       "        vertical-align: middle;\n",
       "    }\n",
       "\n",
       "    .dataframe tbody tr th {\n",
       "        vertical-align: top;\n",
       "    }\n",
       "\n",
       "    .dataframe thead th {\n",
       "        text-align: right;\n",
       "    }\n",
       "</style>\n",
       "<table border=\"1\" class=\"dataframe\">\n",
       "  <thead>\n",
       "    <tr style=\"text-align: right;\">\n",
       "      <th></th>\n",
       "      <th>Issuer Company</th>\n",
       "      <th>Listing Date</th>\n",
       "      <th>Issue Price</th>\n",
       "      <th>Lot Size</th>\n",
       "      <th>Issue Price (Rs Cr)</th>\n",
       "      <th>P/E Ratio</th>\n",
       "      <th>QIB</th>\n",
       "      <th>NII</th>\n",
       "      <th>RII</th>\n",
       "      <th>EMP</th>\n",
       "      <th>TOTAL</th>\n",
       "      <th>Open Price</th>\n",
       "      <th>Low Price</th>\n",
       "      <th>High Price</th>\n",
       "      <th>Close Price</th>\n",
       "      <th>% Change</th>\n",
       "    </tr>\n",
       "  </thead>\n",
       "  <tbody>\n",
       "    <tr>\n",
       "      <th>0</th>\n",
       "      <td>Swashthik Plascon Limited</td>\n",
       "      <td>12/5/23</td>\n",
       "      <td>86.0</td>\n",
       "      <td>1600.0</td>\n",
       "      <td>40.76</td>\n",
       "      <td>17.23</td>\n",
       "      <td>3.42</td>\n",
       "      <td>35.76</td>\n",
       "      <td>13.58</td>\n",
       "      <td>NaN</td>\n",
       "      <td>15.43</td>\n",
       "      <td>120.10</td>\n",
       "      <td>115.25</td>\n",
       "      <td>126.1</td>\n",
       "      <td>126.10</td>\n",
       "      <td>46.63</td>\n",
       "    </tr>\n",
       "    <tr>\n",
       "      <th>1</th>\n",
       "      <td>Flair Writing Industries Limited</td>\n",
       "      <td>12/1/23</td>\n",
       "      <td>304.0</td>\n",
       "      <td>49.0</td>\n",
       "      <td>593.00</td>\n",
       "      <td>23.36</td>\n",
       "      <td>122.02</td>\n",
       "      <td>35.23</td>\n",
       "      <td>13.73</td>\n",
       "      <td>NaN</td>\n",
       "      <td>49.28</td>\n",
       "      <td>503.00</td>\n",
       "      <td>452.70</td>\n",
       "      <td>514.0</td>\n",
       "      <td>452.70</td>\n",
       "      <td>48.91</td>\n",
       "    </tr>\n",
       "    <tr>\n",
       "      <th>2</th>\n",
       "      <td>Fedbank Financial Services Limited</td>\n",
       "      <td>11/30/23</td>\n",
       "      <td>140.0</td>\n",
       "      <td>107.0</td>\n",
       "      <td>1092.26</td>\n",
       "      <td>25.04</td>\n",
       "      <td>3.48</td>\n",
       "      <td>1.49</td>\n",
       "      <td>1.88</td>\n",
       "      <td>1.34</td>\n",
       "      <td>2.24</td>\n",
       "      <td>137.75</td>\n",
       "      <td>133.15</td>\n",
       "      <td>148.0</td>\n",
       "      <td>140.00</td>\n",
       "      <td>0.00</td>\n",
       "    </tr>\n",
       "    <tr>\n",
       "      <th>3</th>\n",
       "      <td>Rockingdeals Circular Economy Limited</td>\n",
       "      <td>11/30/23</td>\n",
       "      <td>140.0</td>\n",
       "      <td>1000.0</td>\n",
       "      <td>21.00</td>\n",
       "      <td>33.33</td>\n",
       "      <td>47.38</td>\n",
       "      <td>458.60</td>\n",
       "      <td>201.42</td>\n",
       "      <td>NaN</td>\n",
       "      <td>213.64</td>\n",
       "      <td>300.00</td>\n",
       "      <td>300.00</td>\n",
       "      <td>315.0</td>\n",
       "      <td>315.00</td>\n",
       "      <td>125.00</td>\n",
       "    </tr>\n",
       "    <tr>\n",
       "      <th>4</th>\n",
       "      <td>Tata Technologies Limited</td>\n",
       "      <td>11/30/23</td>\n",
       "      <td>500.0</td>\n",
       "      <td>30.0</td>\n",
       "      <td>3042.51</td>\n",
       "      <td>32.53</td>\n",
       "      <td>203.41</td>\n",
       "      <td>62.11</td>\n",
       "      <td>16.50</td>\n",
       "      <td>3.70</td>\n",
       "      <td>69.43</td>\n",
       "      <td>1199.95</td>\n",
       "      <td>1199.95</td>\n",
       "      <td>1400.0</td>\n",
       "      <td>1314.25</td>\n",
       "      <td>162.85</td>\n",
       "    </tr>\n",
       "  </tbody>\n",
       "</table>\n",
       "</div>"
      ],
      "text/plain": [
       "                          Issuer Company Listing Date  Issue Price  Lot Size  \\\n",
       "0              Swashthik Plascon Limited      12/5/23         86.0    1600.0   \n",
       "1       Flair Writing Industries Limited      12/1/23        304.0      49.0   \n",
       "2     Fedbank Financial Services Limited     11/30/23        140.0     107.0   \n",
       "3  Rockingdeals Circular Economy Limited     11/30/23        140.0    1000.0   \n",
       "4              Tata Technologies Limited     11/30/23        500.0      30.0   \n",
       "\n",
       "   Issue Price (Rs Cr)  P/E Ratio     QIB     NII     RII   EMP   TOTAL  \\\n",
       "0                40.76      17.23    3.42   35.76   13.58   NaN   15.43   \n",
       "1               593.00      23.36  122.02   35.23   13.73   NaN   49.28   \n",
       "2              1092.26      25.04    3.48    1.49    1.88  1.34    2.24   \n",
       "3                21.00      33.33   47.38  458.60  201.42   NaN  213.64   \n",
       "4              3042.51      32.53  203.41   62.11   16.50  3.70   69.43   \n",
       "\n",
       "   Open Price  Low Price  High Price  Close Price  % Change  \n",
       "0      120.10     115.25       126.1       126.10     46.63  \n",
       "1      503.00     452.70       514.0       452.70     48.91  \n",
       "2      137.75     133.15       148.0       140.00      0.00  \n",
       "3      300.00     300.00       315.0       315.00    125.00  \n",
       "4     1199.95    1199.95      1400.0      1314.25    162.85  "
      ]
     },
     "execution_count": 13,
     "metadata": {},
     "output_type": "execute_result"
    }
   ],
   "source": [
    "df.head(5)"
   ]
  },
  {
   "cell_type": "code",
   "execution_count": 14,
   "id": "8ea45005",
   "metadata": {},
   "outputs": [
    {
     "data": {
      "text/plain": [
       "(Index(['Issuer Company', 'Listing Date', 'Issue Price', 'Lot Size',\n",
       "        'Issue Price (Rs Cr)', 'P/E Ratio', 'QIB', 'NII', 'RII', 'EMP', 'TOTAL',\n",
       "        'Open Price', 'Low Price', 'High Price', 'Close Price', '% Change'],\n",
       "       dtype='object'),\n",
       " (1429, 16))"
      ]
     },
     "execution_count": 14,
     "metadata": {},
     "output_type": "execute_result"
    }
   ],
   "source": [
    "df.columns, df.shape"
   ]
  },
  {
   "cell_type": "code",
   "execution_count": 16,
   "id": "7d5a345f",
   "metadata": {},
   "outputs": [
    {
     "data": {
      "text/plain": [
       "Issuer Company            0\n",
       "Listing Date              1\n",
       "Issue Price               0\n",
       "Lot Size                 38\n",
       "Issue Price (Rs Cr)       0\n",
       "P/E Ratio              1073\n",
       "QIB                     824\n",
       "NII                     376\n",
       "RII                     380\n",
       "EMP                    1202\n",
       "TOTAL                   373\n",
       "Open Price                2\n",
       "Low Price                 2\n",
       "High Price                2\n",
       "Close Price               2\n",
       "% Change                  2\n",
       "dtype: int64"
      ]
     },
     "execution_count": 16,
     "metadata": {},
     "output_type": "execute_result"
    }
   ],
   "source": [
    "df.isnull().sum()"
   ]
  },
  {
   "cell_type": "code",
   "execution_count": 17,
   "id": "9f145c2d",
   "metadata": {},
   "outputs": [],
   "source": [
    "# Remove unnecessary columns and save new dataframe udf\n",
    "udf = df.drop(['P/E Ratio', 'EMP', 'Open Price', 'Low Price', 'High Price', 'Close Price', 'Issuer Company', 'Listing Date'], axis=1)\n",
    "\n",
    "# Remove NA or missing values\n",
    "udf = udf.dropna()"
   ]
  },
  {
   "cell_type": "code",
   "execution_count": 19,
   "id": "e1816b3b",
   "metadata": {},
   "outputs": [
    {
     "name": "stdout",
     "output_type": "stream",
     "text": [
      "<class 'pandas.core.frame.DataFrame'>\n",
      "Index: 598 entries, 0 to 1405\n",
      "Data columns (total 8 columns):\n",
      " #   Column               Non-Null Count  Dtype  \n",
      "---  ------               --------------  -----  \n",
      " 0   Issue Price          598 non-null    float64\n",
      " 1   Lot Size             598 non-null    float64\n",
      " 2   Issue Price (Rs Cr)  598 non-null    float64\n",
      " 3   QIB                  598 non-null    float64\n",
      " 4   NII                  598 non-null    float64\n",
      " 5   RII                  598 non-null    float64\n",
      " 6   TOTAL                598 non-null    float64\n",
      " 7   % Change             598 non-null    float64\n",
      "dtypes: float64(8)\n",
      "memory usage: 42.0 KB\n"
     ]
    }
   ],
   "source": [
    "udf.info()"
   ]
  },
  {
   "cell_type": "code",
   "execution_count": 20,
   "id": "58317547",
   "metadata": {},
   "outputs": [
    {
     "data": {
      "text/html": [
       "<div>\n",
       "<style scoped>\n",
       "    .dataframe tbody tr th:only-of-type {\n",
       "        vertical-align: middle;\n",
       "    }\n",
       "\n",
       "    .dataframe tbody tr th {\n",
       "        vertical-align: top;\n",
       "    }\n",
       "\n",
       "    .dataframe thead th {\n",
       "        text-align: right;\n",
       "    }\n",
       "</style>\n",
       "<table border=\"1\" class=\"dataframe\">\n",
       "  <thead>\n",
       "    <tr style=\"text-align: right;\">\n",
       "      <th></th>\n",
       "      <th>Issue Price</th>\n",
       "      <th>Lot Size</th>\n",
       "      <th>Issue Price (Rs Cr)</th>\n",
       "      <th>QIB</th>\n",
       "      <th>NII</th>\n",
       "      <th>RII</th>\n",
       "      <th>TOTAL</th>\n",
       "      <th>% Change</th>\n",
       "    </tr>\n",
       "  </thead>\n",
       "  <tbody>\n",
       "    <tr>\n",
       "      <th>count</th>\n",
       "      <td>598.000000</td>\n",
       "      <td>598.000000</td>\n",
       "      <td>598.000000</td>\n",
       "      <td>598.000000</td>\n",
       "      <td>598.000000</td>\n",
       "      <td>598.000000</td>\n",
       "      <td>598.000000</td>\n",
       "      <td>598.000000</td>\n",
       "    </tr>\n",
       "    <tr>\n",
       "      <th>mean</th>\n",
       "      <td>311.367057</td>\n",
       "      <td>343.479933</td>\n",
       "      <td>992.548378</td>\n",
       "      <td>52.669749</td>\n",
       "      <td>88.138110</td>\n",
       "      <td>28.066455</td>\n",
       "      <td>43.046355</td>\n",
       "      <td>25.310886</td>\n",
       "    </tr>\n",
       "    <tr>\n",
       "      <th>std</th>\n",
       "      <td>311.830685</td>\n",
       "      <td>824.945591</td>\n",
       "      <td>2127.707364</td>\n",
       "      <td>410.349394</td>\n",
       "      <td>157.296117</td>\n",
       "      <td>72.441492</td>\n",
       "      <td>68.862965</td>\n",
       "      <td>44.393352</td>\n",
       "    </tr>\n",
       "    <tr>\n",
       "      <th>min</th>\n",
       "      <td>10.000000</td>\n",
       "      <td>5.000000</td>\n",
       "      <td>3.990000</td>\n",
       "      <td>0.000000</td>\n",
       "      <td>0.020000</td>\n",
       "      <td>0.030000</td>\n",
       "      <td>0.440000</td>\n",
       "      <td>-68.920000</td>\n",
       "    </tr>\n",
       "    <tr>\n",
       "      <th>25%</th>\n",
       "      <td>90.000000</td>\n",
       "      <td>25.000000</td>\n",
       "      <td>66.157500</td>\n",
       "      <td>2.340000</td>\n",
       "      <td>1.950000</td>\n",
       "      <td>1.745000</td>\n",
       "      <td>2.287500</td>\n",
       "      <td>-2.757500</td>\n",
       "    </tr>\n",
       "    <tr>\n",
       "      <th>50%</th>\n",
       "      <td>190.000000</td>\n",
       "      <td>54.500000</td>\n",
       "      <td>400.000000</td>\n",
       "      <td>10.705000</td>\n",
       "      <td>12.490000</td>\n",
       "      <td>5.590000</td>\n",
       "      <td>11.485000</td>\n",
       "      <td>12.465000</td>\n",
       "    </tr>\n",
       "    <tr>\n",
       "      <th>75%</th>\n",
       "      <td>439.000000</td>\n",
       "      <td>130.000000</td>\n",
       "      <td>886.072500</td>\n",
       "      <td>53.730000</td>\n",
       "      <td>101.277500</td>\n",
       "      <td>16.135000</td>\n",
       "      <td>56.617500</td>\n",
       "      <td>42.295000</td>\n",
       "    </tr>\n",
       "    <tr>\n",
       "      <th>max</th>\n",
       "      <td>2150.000000</td>\n",
       "      <td>10000.000000</td>\n",
       "      <td>21008.480000</td>\n",
       "      <td>9999.000000</td>\n",
       "      <td>958.070000</td>\n",
       "      <td>592.730000</td>\n",
       "      <td>450.030000</td>\n",
       "      <td>270.400000</td>\n",
       "    </tr>\n",
       "  </tbody>\n",
       "</table>\n",
       "</div>"
      ],
      "text/plain": [
       "       Issue Price      Lot Size  Issue Price (Rs Cr)          QIB  \\\n",
       "count   598.000000    598.000000           598.000000   598.000000   \n",
       "mean    311.367057    343.479933           992.548378    52.669749   \n",
       "std     311.830685    824.945591          2127.707364   410.349394   \n",
       "min      10.000000      5.000000             3.990000     0.000000   \n",
       "25%      90.000000     25.000000            66.157500     2.340000   \n",
       "50%     190.000000     54.500000           400.000000    10.705000   \n",
       "75%     439.000000    130.000000           886.072500    53.730000   \n",
       "max    2150.000000  10000.000000         21008.480000  9999.000000   \n",
       "\n",
       "              NII         RII       TOTAL    % Change  \n",
       "count  598.000000  598.000000  598.000000  598.000000  \n",
       "mean    88.138110   28.066455   43.046355   25.310886  \n",
       "std    157.296117   72.441492   68.862965   44.393352  \n",
       "min      0.020000    0.030000    0.440000  -68.920000  \n",
       "25%      1.950000    1.745000    2.287500   -2.757500  \n",
       "50%     12.490000    5.590000   11.485000   12.465000  \n",
       "75%    101.277500   16.135000   56.617500   42.295000  \n",
       "max    958.070000  592.730000  450.030000  270.400000  "
      ]
     },
     "execution_count": 20,
     "metadata": {},
     "output_type": "execute_result"
    }
   ],
   "source": [
    "udf.describe()"
   ]
  },
  {
   "cell_type": "code",
   "execution_count": 22,
   "id": "cb8a727b",
   "metadata": {},
   "outputs": [
    {
     "name": "stdout",
     "output_type": "stream",
     "text": [
      "Index([], dtype='int64')\n"
     ]
    }
   ],
   "source": [
    "# Remove bad data from dataframe udf\n",
    "bad_record = 'R'\n",
    "rows_to_remove = udf[udf['QIB'] == bad_record].index\n",
    "print(rows_to_remove) # No bad data"
   ]
  },
  {
   "cell_type": "code",
   "execution_count": 23,
   "id": "0b916fe8",
   "metadata": {},
   "outputs": [],
   "source": [
    "# Standardize the dataset \n",
    "scaler = StandardScaler()\n",
    "udf = scaler.fit_transform(udf)"
   ]
  },
  {
   "cell_type": "code",
   "execution_count": 32,
   "id": "eadb6843",
   "metadata": {},
   "outputs": [
    {
     "data": {
      "text/plain": [
       "numpy.ndarray"
      ]
     },
     "execution_count": 32,
     "metadata": {},
     "output_type": "execute_result"
    }
   ],
   "source": [
    "type(udf)"
   ]
  },
  {
   "cell_type": "code",
   "execution_count": null,
   "id": "fa568928",
   "metadata": {},
   "outputs": [],
   "source": []
  }
 ],
 "metadata": {
  "kernelspec": {
   "display_name": "Python 3 (ipykernel)",
   "language": "python",
   "name": "python3"
  },
  "language_info": {
   "codemirror_mode": {
    "name": "ipython",
    "version": 3
   },
   "file_extension": ".py",
   "mimetype": "text/x-python",
   "name": "python",
   "nbconvert_exporter": "python",
   "pygments_lexer": "ipython3",
   "version": "3.11.4"
  }
 },
 "nbformat": 4,
 "nbformat_minor": 5
}
