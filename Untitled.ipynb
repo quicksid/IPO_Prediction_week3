{
 "cells": [
  {
   "cell_type": "code",
   "execution_count": 18,
   "id": "d5fbc23a",
   "metadata": {},
   "outputs": [],
   "source": [
    "# Import necessary libraries\n",
    "import pandas as pd\n",
    "import random\n",
    "from sklearn.preprocessing import StandardScaler\n",
    "from sklearn.ensemble import RandomForestRegressor, RandomForestClassifier, AdaBoostClassifier\n",
    "import matplotlib.pyplot as plt\n",
    "import seaborn as sns\n",
    "import numpy as np\n",
    "from scipy.stats import boxcox\n",
    "from scipy.special import boxcox1p\n",
    "from sklearn.model_selection import train_test_split, cross_val_score\n",
    "from sklearn.linear_model import LogisticRegression\n",
    "from sklearn.metrics import classification_report, confusion_matrix, accuracy_score\n",
    "from sklearn.datasets import make_classification\n",
    "from sklearn.cluster import KMeans, AgglomerativeClustering\n",
    "from sklearn.tree import DecisionTreeClassifier\n",
    "from sklearn.svm import SVC\n",
    "from scipy.cluster.hierarchy import dendrogram, linkage\n",
    "from bayes_opt import BayesianOptimization\n",
    "from sklearn.neural_network import MLPClassifier\n",
    "from catboost import CatBoostClassifier\n",
    "from xgboost import XGBClassifier"
   ]
  },
  {
   "cell_type": "code",
   "execution_count": 19,
   "id": "20a46ce5",
   "metadata": {},
   "outputs": [],
   "source": [
    "# Read the input data from csv\n",
    "df = pd.read_csv('/Users/siddharthhaveliwala/dataglacierrepos/week-4/IPO_Prediction_week3/data/ipo_report_listing_day_gain.csv')"
   ]
  },
  {
   "cell_type": "code",
   "execution_count": 20,
   "id": "a2ff1669",
   "metadata": {},
   "outputs": [
    {
     "name": "stdout",
     "output_type": "stream",
     "text": [
      "<class 'pandas.core.frame.DataFrame'>\n",
      "RangeIndex: 1429 entries, 0 to 1428\n",
      "Data columns (total 16 columns):\n",
      " #   Column               Non-Null Count  Dtype  \n",
      "---  ------               --------------  -----  \n",
      " 0   Issuer Company       1429 non-null   object \n",
      " 1   Listing Date         1428 non-null   object \n",
      " 2   Issue Price          1429 non-null   float64\n",
      " 3   Lot Size             1391 non-null   float64\n",
      " 4   Issue Price (Rs Cr)  1429 non-null   float64\n",
      " 5   P/E Ratio            356 non-null    float64\n",
      " 6   QIB                  605 non-null    float64\n",
      " 7   NII                  1053 non-null   float64\n",
      " 8   RII                  1049 non-null   float64\n",
      " 9   EMP                  227 non-null    float64\n",
      " 10  TOTAL                1056 non-null   float64\n",
      " 11  Open Price           1427 non-null   float64\n",
      " 12  Low Price            1427 non-null   float64\n",
      " 13  High Price           1427 non-null   float64\n",
      " 14  Close Price          1427 non-null   float64\n",
      " 15  % Change             1427 non-null   float64\n",
      "dtypes: float64(14), object(2)\n",
      "memory usage: 178.8+ KB\n"
     ]
    }
   ],
   "source": [
    "# Summary of dataframe df\n",
    "df.info()"
   ]
  },
  {
   "cell_type": "code",
   "execution_count": 21,
   "id": "8cf6f7f5",
   "metadata": {},
   "outputs": [
    {
     "data": {
      "text/html": [
       "<div>\n",
       "<style scoped>\n",
       "    .dataframe tbody tr th:only-of-type {\n",
       "        vertical-align: middle;\n",
       "    }\n",
       "\n",
       "    .dataframe tbody tr th {\n",
       "        vertical-align: top;\n",
       "    }\n",
       "\n",
       "    .dataframe thead th {\n",
       "        text-align: right;\n",
       "    }\n",
       "</style>\n",
       "<table border=\"1\" class=\"dataframe\">\n",
       "  <thead>\n",
       "    <tr style=\"text-align: right;\">\n",
       "      <th></th>\n",
       "      <th>Issuer Company</th>\n",
       "      <th>Listing Date</th>\n",
       "      <th>Issue Price</th>\n",
       "      <th>Lot Size</th>\n",
       "      <th>Issue Price (Rs Cr)</th>\n",
       "      <th>P/E Ratio</th>\n",
       "      <th>QIB</th>\n",
       "      <th>NII</th>\n",
       "      <th>RII</th>\n",
       "      <th>EMP</th>\n",
       "      <th>TOTAL</th>\n",
       "      <th>Open Price</th>\n",
       "      <th>Low Price</th>\n",
       "      <th>High Price</th>\n",
       "      <th>Close Price</th>\n",
       "      <th>% Change</th>\n",
       "    </tr>\n",
       "  </thead>\n",
       "  <tbody>\n",
       "    <tr>\n",
       "      <th>0</th>\n",
       "      <td>Swashthik Plascon Limited</td>\n",
       "      <td>12/5/23</td>\n",
       "      <td>86.0</td>\n",
       "      <td>1600.0</td>\n",
       "      <td>40.76</td>\n",
       "      <td>17.23</td>\n",
       "      <td>3.42</td>\n",
       "      <td>35.76</td>\n",
       "      <td>13.58</td>\n",
       "      <td>NaN</td>\n",
       "      <td>15.43</td>\n",
       "      <td>120.10</td>\n",
       "      <td>115.25</td>\n",
       "      <td>126.1</td>\n",
       "      <td>126.10</td>\n",
       "      <td>46.63</td>\n",
       "    </tr>\n",
       "    <tr>\n",
       "      <th>1</th>\n",
       "      <td>Flair Writing Industries Limited</td>\n",
       "      <td>12/1/23</td>\n",
       "      <td>304.0</td>\n",
       "      <td>49.0</td>\n",
       "      <td>593.00</td>\n",
       "      <td>23.36</td>\n",
       "      <td>122.02</td>\n",
       "      <td>35.23</td>\n",
       "      <td>13.73</td>\n",
       "      <td>NaN</td>\n",
       "      <td>49.28</td>\n",
       "      <td>503.00</td>\n",
       "      <td>452.70</td>\n",
       "      <td>514.0</td>\n",
       "      <td>452.70</td>\n",
       "      <td>48.91</td>\n",
       "    </tr>\n",
       "    <tr>\n",
       "      <th>2</th>\n",
       "      <td>Fedbank Financial Services Limited</td>\n",
       "      <td>11/30/23</td>\n",
       "      <td>140.0</td>\n",
       "      <td>107.0</td>\n",
       "      <td>1092.26</td>\n",
       "      <td>25.04</td>\n",
       "      <td>3.48</td>\n",
       "      <td>1.49</td>\n",
       "      <td>1.88</td>\n",
       "      <td>1.34</td>\n",
       "      <td>2.24</td>\n",
       "      <td>137.75</td>\n",
       "      <td>133.15</td>\n",
       "      <td>148.0</td>\n",
       "      <td>140.00</td>\n",
       "      <td>0.00</td>\n",
       "    </tr>\n",
       "    <tr>\n",
       "      <th>3</th>\n",
       "      <td>Rockingdeals Circular Economy Limited</td>\n",
       "      <td>11/30/23</td>\n",
       "      <td>140.0</td>\n",
       "      <td>1000.0</td>\n",
       "      <td>21.00</td>\n",
       "      <td>33.33</td>\n",
       "      <td>47.38</td>\n",
       "      <td>458.60</td>\n",
       "      <td>201.42</td>\n",
       "      <td>NaN</td>\n",
       "      <td>213.64</td>\n",
       "      <td>300.00</td>\n",
       "      <td>300.00</td>\n",
       "      <td>315.0</td>\n",
       "      <td>315.00</td>\n",
       "      <td>125.00</td>\n",
       "    </tr>\n",
       "    <tr>\n",
       "      <th>4</th>\n",
       "      <td>Tata Technologies Limited</td>\n",
       "      <td>11/30/23</td>\n",
       "      <td>500.0</td>\n",
       "      <td>30.0</td>\n",
       "      <td>3042.51</td>\n",
       "      <td>32.53</td>\n",
       "      <td>203.41</td>\n",
       "      <td>62.11</td>\n",
       "      <td>16.50</td>\n",
       "      <td>3.70</td>\n",
       "      <td>69.43</td>\n",
       "      <td>1199.95</td>\n",
       "      <td>1199.95</td>\n",
       "      <td>1400.0</td>\n",
       "      <td>1314.25</td>\n",
       "      <td>162.85</td>\n",
       "    </tr>\n",
       "  </tbody>\n",
       "</table>\n",
       "</div>"
      ],
      "text/plain": [
       "                          Issuer Company Listing Date  Issue Price  Lot Size  \\\n",
       "0              Swashthik Plascon Limited      12/5/23         86.0    1600.0   \n",
       "1       Flair Writing Industries Limited      12/1/23        304.0      49.0   \n",
       "2     Fedbank Financial Services Limited     11/30/23        140.0     107.0   \n",
       "3  Rockingdeals Circular Economy Limited     11/30/23        140.0    1000.0   \n",
       "4              Tata Technologies Limited     11/30/23        500.0      30.0   \n",
       "\n",
       "   Issue Price (Rs Cr)  P/E Ratio     QIB     NII     RII   EMP   TOTAL  \\\n",
       "0                40.76      17.23    3.42   35.76   13.58   NaN   15.43   \n",
       "1               593.00      23.36  122.02   35.23   13.73   NaN   49.28   \n",
       "2              1092.26      25.04    3.48    1.49    1.88  1.34    2.24   \n",
       "3                21.00      33.33   47.38  458.60  201.42   NaN  213.64   \n",
       "4              3042.51      32.53  203.41   62.11   16.50  3.70   69.43   \n",
       "\n",
       "   Open Price  Low Price  High Price  Close Price  % Change  \n",
       "0      120.10     115.25       126.1       126.10     46.63  \n",
       "1      503.00     452.70       514.0       452.70     48.91  \n",
       "2      137.75     133.15       148.0       140.00      0.00  \n",
       "3      300.00     300.00       315.0       315.00    125.00  \n",
       "4     1199.95    1199.95      1400.0      1314.25    162.85  "
      ]
     },
     "execution_count": 21,
     "metadata": {},
     "output_type": "execute_result"
    }
   ],
   "source": [
    "df.head(5)"
   ]
  },
  {
   "cell_type": "code",
   "execution_count": 22,
   "id": "8ea45005",
   "metadata": {},
   "outputs": [
    {
     "data": {
      "text/plain": [
       "(Index(['Issuer Company', 'Listing Date', 'Issue Price', 'Lot Size',\n",
       "        'Issue Price (Rs Cr)', 'P/E Ratio', 'QIB', 'NII', 'RII', 'EMP', 'TOTAL',\n",
       "        'Open Price', 'Low Price', 'High Price', 'Close Price', '% Change'],\n",
       "       dtype='object'),\n",
       " (1429, 16))"
      ]
     },
     "execution_count": 22,
     "metadata": {},
     "output_type": "execute_result"
    }
   ],
   "source": [
    "df.columns, df.shape"
   ]
  },
  {
   "cell_type": "code",
   "execution_count": 23,
   "id": "7d5a345f",
   "metadata": {},
   "outputs": [
    {
     "data": {
      "text/plain": [
       "Issuer Company            0\n",
       "Listing Date              1\n",
       "Issue Price               0\n",
       "Lot Size                 38\n",
       "Issue Price (Rs Cr)       0\n",
       "P/E Ratio              1073\n",
       "QIB                     824\n",
       "NII                     376\n",
       "RII                     380\n",
       "EMP                    1202\n",
       "TOTAL                   373\n",
       "Open Price                2\n",
       "Low Price                 2\n",
       "High Price                2\n",
       "Close Price               2\n",
       "% Change                  2\n",
       "dtype: int64"
      ]
     },
     "execution_count": 23,
     "metadata": {},
     "output_type": "execute_result"
    }
   ],
   "source": [
    "df.isnull().sum()"
   ]
  },
  {
   "cell_type": "code",
   "execution_count": 24,
   "id": "9f145c2d",
   "metadata": {},
   "outputs": [],
   "source": [
    "# Remove unnecessary columns and save new dataframe udf\n",
    "udf = df.drop(['P/E Ratio', 'EMP', 'Open Price', 'Low Price', 'High Price', 'Close Price', 'Issuer Company', 'Listing Date'], axis=1)\n",
    "\n",
    "# Remove NA or missing values\n",
    "udf = udf.dropna()"
   ]
  },
  {
   "cell_type": "code",
   "execution_count": 25,
   "id": "e1816b3b",
   "metadata": {},
   "outputs": [
    {
     "name": "stdout",
     "output_type": "stream",
     "text": [
      "<class 'pandas.core.frame.DataFrame'>\n",
      "Index: 598 entries, 0 to 1405\n",
      "Data columns (total 8 columns):\n",
      " #   Column               Non-Null Count  Dtype  \n",
      "---  ------               --------------  -----  \n",
      " 0   Issue Price          598 non-null    float64\n",
      " 1   Lot Size             598 non-null    float64\n",
      " 2   Issue Price (Rs Cr)  598 non-null    float64\n",
      " 3   QIB                  598 non-null    float64\n",
      " 4   NII                  598 non-null    float64\n",
      " 5   RII                  598 non-null    float64\n",
      " 6   TOTAL                598 non-null    float64\n",
      " 7   % Change             598 non-null    float64\n",
      "dtypes: float64(8)\n",
      "memory usage: 42.0 KB\n"
     ]
    }
   ],
   "source": [
    "udf.info()"
   ]
  },
  {
   "cell_type": "code",
   "execution_count": 26,
   "id": "58317547",
   "metadata": {},
   "outputs": [
    {
     "data": {
      "text/html": [
       "<div>\n",
       "<style scoped>\n",
       "    .dataframe tbody tr th:only-of-type {\n",
       "        vertical-align: middle;\n",
       "    }\n",
       "\n",
       "    .dataframe tbody tr th {\n",
       "        vertical-align: top;\n",
       "    }\n",
       "\n",
       "    .dataframe thead th {\n",
       "        text-align: right;\n",
       "    }\n",
       "</style>\n",
       "<table border=\"1\" class=\"dataframe\">\n",
       "  <thead>\n",
       "    <tr style=\"text-align: right;\">\n",
       "      <th></th>\n",
       "      <th>Issue Price</th>\n",
       "      <th>Lot Size</th>\n",
       "      <th>Issue Price (Rs Cr)</th>\n",
       "      <th>QIB</th>\n",
       "      <th>NII</th>\n",
       "      <th>RII</th>\n",
       "      <th>TOTAL</th>\n",
       "      <th>% Change</th>\n",
       "    </tr>\n",
       "  </thead>\n",
       "  <tbody>\n",
       "    <tr>\n",
       "      <th>count</th>\n",
       "      <td>598.000000</td>\n",
       "      <td>598.000000</td>\n",
       "      <td>598.000000</td>\n",
       "      <td>598.000000</td>\n",
       "      <td>598.000000</td>\n",
       "      <td>598.000000</td>\n",
       "      <td>598.000000</td>\n",
       "      <td>598.000000</td>\n",
       "    </tr>\n",
       "    <tr>\n",
       "      <th>mean</th>\n",
       "      <td>311.367057</td>\n",
       "      <td>343.479933</td>\n",
       "      <td>992.548378</td>\n",
       "      <td>52.669749</td>\n",
       "      <td>88.138110</td>\n",
       "      <td>28.066455</td>\n",
       "      <td>43.046355</td>\n",
       "      <td>25.310886</td>\n",
       "    </tr>\n",
       "    <tr>\n",
       "      <th>std</th>\n",
       "      <td>311.830685</td>\n",
       "      <td>824.945591</td>\n",
       "      <td>2127.707364</td>\n",
       "      <td>410.349394</td>\n",
       "      <td>157.296117</td>\n",
       "      <td>72.441492</td>\n",
       "      <td>68.862965</td>\n",
       "      <td>44.393352</td>\n",
       "    </tr>\n",
       "    <tr>\n",
       "      <th>min</th>\n",
       "      <td>10.000000</td>\n",
       "      <td>5.000000</td>\n",
       "      <td>3.990000</td>\n",
       "      <td>0.000000</td>\n",
       "      <td>0.020000</td>\n",
       "      <td>0.030000</td>\n",
       "      <td>0.440000</td>\n",
       "      <td>-68.920000</td>\n",
       "    </tr>\n",
       "    <tr>\n",
       "      <th>25%</th>\n",
       "      <td>90.000000</td>\n",
       "      <td>25.000000</td>\n",
       "      <td>66.157500</td>\n",
       "      <td>2.340000</td>\n",
       "      <td>1.950000</td>\n",
       "      <td>1.745000</td>\n",
       "      <td>2.287500</td>\n",
       "      <td>-2.757500</td>\n",
       "    </tr>\n",
       "    <tr>\n",
       "      <th>50%</th>\n",
       "      <td>190.000000</td>\n",
       "      <td>54.500000</td>\n",
       "      <td>400.000000</td>\n",
       "      <td>10.705000</td>\n",
       "      <td>12.490000</td>\n",
       "      <td>5.590000</td>\n",
       "      <td>11.485000</td>\n",
       "      <td>12.465000</td>\n",
       "    </tr>\n",
       "    <tr>\n",
       "      <th>75%</th>\n",
       "      <td>439.000000</td>\n",
       "      <td>130.000000</td>\n",
       "      <td>886.072500</td>\n",
       "      <td>53.730000</td>\n",
       "      <td>101.277500</td>\n",
       "      <td>16.135000</td>\n",
       "      <td>56.617500</td>\n",
       "      <td>42.295000</td>\n",
       "    </tr>\n",
       "    <tr>\n",
       "      <th>max</th>\n",
       "      <td>2150.000000</td>\n",
       "      <td>10000.000000</td>\n",
       "      <td>21008.480000</td>\n",
       "      <td>9999.000000</td>\n",
       "      <td>958.070000</td>\n",
       "      <td>592.730000</td>\n",
       "      <td>450.030000</td>\n",
       "      <td>270.400000</td>\n",
       "    </tr>\n",
       "  </tbody>\n",
       "</table>\n",
       "</div>"
      ],
      "text/plain": [
       "       Issue Price      Lot Size  Issue Price (Rs Cr)          QIB  \\\n",
       "count   598.000000    598.000000           598.000000   598.000000   \n",
       "mean    311.367057    343.479933           992.548378    52.669749   \n",
       "std     311.830685    824.945591          2127.707364   410.349394   \n",
       "min      10.000000      5.000000             3.990000     0.000000   \n",
       "25%      90.000000     25.000000            66.157500     2.340000   \n",
       "50%     190.000000     54.500000           400.000000    10.705000   \n",
       "75%     439.000000    130.000000           886.072500    53.730000   \n",
       "max    2150.000000  10000.000000         21008.480000  9999.000000   \n",
       "\n",
       "              NII         RII       TOTAL    % Change  \n",
       "count  598.000000  598.000000  598.000000  598.000000  \n",
       "mean    88.138110   28.066455   43.046355   25.310886  \n",
       "std    157.296117   72.441492   68.862965   44.393352  \n",
       "min      0.020000    0.030000    0.440000  -68.920000  \n",
       "25%      1.950000    1.745000    2.287500   -2.757500  \n",
       "50%     12.490000    5.590000   11.485000   12.465000  \n",
       "75%    101.277500   16.135000   56.617500   42.295000  \n",
       "max    958.070000  592.730000  450.030000  270.400000  "
      ]
     },
     "execution_count": 26,
     "metadata": {},
     "output_type": "execute_result"
    }
   ],
   "source": [
    "udf.describe()"
   ]
  },
  {
   "cell_type": "code",
   "execution_count": 27,
   "id": "cb8a727b",
   "metadata": {},
   "outputs": [
    {
     "name": "stdout",
     "output_type": "stream",
     "text": [
      "Index([], dtype='int64')\n"
     ]
    }
   ],
   "source": [
    "# Remove bad data from dataframe udf\n",
    "bad_record = 'R'\n",
    "rows_to_remove = udf[udf['QIB'] == bad_record].index\n",
    "print(rows_to_remove) # No bad data"
   ]
  },
  {
   "cell_type": "code",
   "execution_count": 28,
   "id": "0b916fe8",
   "metadata": {},
   "outputs": [],
   "source": [
    "# Standardize the dataset \n",
    "scaler = StandardScaler()\n",
    "numerical_cols = udf.select_dtypes(include=['int64', 'float64']).columns\n",
    "\n",
    "udf[numerical_cols] = scaler.fit_transform(udf[numerical_cols])"
   ]
  },
  {
   "cell_type": "code",
   "execution_count": 29,
   "id": "eadb6843",
   "metadata": {},
   "outputs": [
    {
     "data": {
      "text/plain": [
       "pandas.core.series.Series"
      ]
     },
     "execution_count": 29,
     "metadata": {},
     "output_type": "execute_result"
    }
   ],
   "source": [
    "type(udf['% Change'])"
   ]
  },
  {
   "cell_type": "code",
   "execution_count": 30,
   "id": "fa568928",
   "metadata": {},
   "outputs": [],
   "source": [
    "# Generate the Response variable (IPO Listing positive (1) or negative(0))\n",
    "udf['target'] = udf['% Change'].apply(lambda x: 1 if x > 0 else 0)\n",
    "\n",
    "# Drop the '% Change' column\n",
    "udf = udf.drop(['% Change'], axis=1)"
   ]
  },
  {
   "cell_type": "code",
   "execution_count": 31,
   "id": "a0b749e1",
   "metadata": {},
   "outputs": [],
   "source": [
    "# Compute correlations with target variable\n",
    "correlations = udf.corr()\n",
    "target_correlation = correlations['target'].drop('target')\n",
    "\n",
    "# Select features with significant correlation\n",
    "high_corr_features = target_correlation[abs(target_correlation) > 0.2].index.tolist()"
   ]
  },
  {
   "cell_type": "code",
   "execution_count": 32,
   "id": "e2edfdea",
   "metadata": {},
   "outputs": [
    {
     "data": {
      "text/html": [
       "<div>\n",
       "<style scoped>\n",
       "    .dataframe tbody tr th:only-of-type {\n",
       "        vertical-align: middle;\n",
       "    }\n",
       "\n",
       "    .dataframe tbody tr th {\n",
       "        vertical-align: top;\n",
       "    }\n",
       "\n",
       "    .dataframe thead th {\n",
       "        text-align: right;\n",
       "    }\n",
       "</style>\n",
       "<table border=\"1\" class=\"dataframe\">\n",
       "  <thead>\n",
       "    <tr style=\"text-align: right;\">\n",
       "      <th></th>\n",
       "      <th>Feature</th>\n",
       "      <th>Importance</th>\n",
       "    </tr>\n",
       "  </thead>\n",
       "  <tbody>\n",
       "    <tr>\n",
       "      <th>6</th>\n",
       "      <td>TOTAL</td>\n",
       "      <td>0.494414</td>\n",
       "    </tr>\n",
       "    <tr>\n",
       "      <th>2</th>\n",
       "      <td>Issue Price (Rs Cr)</td>\n",
       "      <td>0.119635</td>\n",
       "    </tr>\n",
       "    <tr>\n",
       "      <th>5</th>\n",
       "      <td>RII</td>\n",
       "      <td>0.098850</td>\n",
       "    </tr>\n",
       "    <tr>\n",
       "      <th>3</th>\n",
       "      <td>QIB</td>\n",
       "      <td>0.089990</td>\n",
       "    </tr>\n",
       "    <tr>\n",
       "      <th>4</th>\n",
       "      <td>NII</td>\n",
       "      <td>0.083437</td>\n",
       "    </tr>\n",
       "    <tr>\n",
       "      <th>0</th>\n",
       "      <td>Issue Price</td>\n",
       "      <td>0.065813</td>\n",
       "    </tr>\n",
       "    <tr>\n",
       "      <th>1</th>\n",
       "      <td>Lot Size</td>\n",
       "      <td>0.047861</td>\n",
       "    </tr>\n",
       "  </tbody>\n",
       "</table>\n",
       "</div>"
      ],
      "text/plain": [
       "               Feature  Importance\n",
       "6                TOTAL    0.494414\n",
       "2  Issue Price (Rs Cr)    0.119635\n",
       "5                  RII    0.098850\n",
       "3                  QIB    0.089990\n",
       "4                  NII    0.083437\n",
       "0          Issue Price    0.065813\n",
       "1             Lot Size    0.047861"
      ]
     },
     "execution_count": 32,
     "metadata": {},
     "output_type": "execute_result"
    }
   ],
   "source": [
    "# Separate features and target\n",
    "X = udf.drop('target', axis=1)\n",
    "y = udf['target']\n",
    "\n",
    "# Train a random forest regressor to get feature importance\n",
    "model = RandomForestRegressor()\n",
    "model.fit(X, y)\n",
    "\n",
    "importances = model.feature_importances_\n",
    "feature_importances = pd.DataFrame({'Feature': X.columns, 'Importance': importances})\n",
    "feature_importances = feature_importances.sort_values(by='Importance', ascending=False)\n",
    "feature_importances"
   ]
  },
  {
   "cell_type": "code",
   "execution_count": 35,
   "id": "aa1e6326",
   "metadata": {},
   "outputs": [
    {
     "name": "stderr",
     "output_type": "stream",
     "text": [
      "/var/folders/zv/4j860ckd1c35y4ccg9xkdxcw0000gn/T/ipykernel_21210/4258756331.py:9: UserWarning: The figure layout has changed to tight\n",
      "  plt.tight_layout()\n",
      "/var/folders/zv/4j860ckd1c35y4ccg9xkdxcw0000gn/T/ipykernel_21210/4258756331.py:9: UserWarning: The figure layout has changed to tight\n",
      "  plt.tight_layout()\n",
      "/var/folders/zv/4j860ckd1c35y4ccg9xkdxcw0000gn/T/ipykernel_21210/4258756331.py:9: UserWarning: The figure layout has changed to tight\n",
      "  plt.tight_layout()\n",
      "/var/folders/zv/4j860ckd1c35y4ccg9xkdxcw0000gn/T/ipykernel_21210/4258756331.py:9: UserWarning: The figure layout has changed to tight\n",
      "  plt.tight_layout()\n",
      "/var/folders/zv/4j860ckd1c35y4ccg9xkdxcw0000gn/T/ipykernel_21210/4258756331.py:9: UserWarning: The figure layout has changed to tight\n",
      "  plt.tight_layout()\n",
      "/var/folders/zv/4j860ckd1c35y4ccg9xkdxcw0000gn/T/ipykernel_21210/4258756331.py:9: UserWarning: The figure layout has changed to tight\n",
      "  plt.tight_layout()\n"
     ]
    },
    {
     "data": {
      "image/png": "[encoded data removed]",
      "text/plain": [
       "<Figure size 2000x1500 with 7 Axes>"
      ]
     },
     "metadata": {},
     "output_type": "display_data"
    }
   ],
   "source": [
    "# Plot histograms for each feature\n",
    "features = udf.drop('target', axis = 1)\n",
    "features = features.columns\n",
    "plt.figure(figsize=(20, 15))\n",
    "for i, feature in enumerate(features):\n",
    "    plt.subplot(len(features)//3 + 1, 3, i+1)\n",
    "    sns.histplot(udf[feature], kde=True)\n",
    "    plt.title(f'Histogram for : {feature}')\n",
    "    plt.tight_layout()\n",
    "\n",
    "plt.show()"
   ]
  },
  {
   "cell_type": "code",
   "execution_count": 36,
   "id": "d9e62f39",
   "metadata": {},
   "outputs": [
    {
     "name": "stderr",
     "output_type": "stream",
     "text": [
      "/var/folders/zv/4j860ckd1c35y4ccg9xkdxcw0000gn/T/ipykernel_21210/3962909398.py:7: UserWarning: The figure layout has changed to tight\n",
      "  plt.tight_layout()\n",
      "/var/folders/zv/4j860ckd1c35y4ccg9xkdxcw0000gn/T/ipykernel_21210/3962909398.py:7: UserWarning: The figure layout has changed to tight\n",
      "  plt.tight_layout()\n",
      "/var/folders/zv/4j860ckd1c35y4ccg9xkdxcw0000gn/T/ipykernel_21210/3962909398.py:7: UserWarning: The figure layout has changed to tight\n",
      "  plt.tight_layout()\n",
      "/var/folders/zv/4j860ckd1c35y4ccg9xkdxcw0000gn/T/ipykernel_21210/3962909398.py:7: UserWarning: The figure layout has changed to tight\n",
      "  plt.tight_layout()\n",
      "/var/folders/zv/4j860ckd1c35y4ccg9xkdxcw0000gn/T/ipykernel_21210/3962909398.py:7: UserWarning: The figure layout has changed to tight\n",
      "  plt.tight_layout()\n",
      "/var/folders/zv/4j860ckd1c35y4ccg9xkdxcw0000gn/T/ipykernel_21210/3962909398.py:7: UserWarning: The figure layout has changed to tight\n",
      "  plt.tight_layout()\n"
     ]
    },
    {
     "data": {
      "image/png": "[encoded data removed]",
      "text/plain": [
       "<Figure size 2000x1500 with 7 Axes>"
      ]
     },
     "metadata": {},
     "output_type": "display_data"
    }
   ],
   "source": [
    "plt.figure(figsize=(20, 15))\n",
    "\n",
    "for i, feature in enumerate(features):\n",
    "    plt.subplot(len(features)//3 + 1, 3, i+1)\n",
    "    sns.boxplot(x=udf[feature])\n",
    "    plt.title(f'Boxplot for: {feature}')\n",
    "    plt.tight_layout()\n",
    "\n",
    "plt.show()"
   ]
  },
  {
   "cell_type": "code",
   "execution_count": 37,
   "id": "5ec84c20",
   "metadata": {},
   "outputs": [],
   "source": [
    "# Load the udf dataframe into final fd dataframe\n",
    "fd = udf.copy()\n",
    "\n",
    "# List of skewed columns based on the histograms to apply transoformations\n",
    "skewed_cols = ['Issue Price', 'Lot Size', 'Issue Price (Rs Cr)', 'QIB', 'NII', 'RII', 'TOTAL']\n",
    "\n",
    "for col in skewed_cols:\n",
    "    if (fd[col] <= 0).any():\n",
    "        # Apply a log transformation with an offset to handle zero and negative values\n",
    "        # The offset of 1 is used to ensure all values are positive\n",
    "        fd[col] = np.log1p(fd[col] + 1)\n",
    "    else:\n",
    "        # Apply the Box-Cox transformation since all values are positive\n",
    "        fd[col], fitted_lambda = boxcox(fd[col])"
   ]
  },
  {
   "cell_type": "code",
   "execution_count": 38,
   "id": "3e14445b",
   "metadata": {},
   "outputs": [
    {
     "data": {
      "text/html": [
       "<div>\n",
       "<style scoped>\n",
       "    .dataframe tbody tr th:only-of-type {\n",
       "        vertical-align: middle;\n",
       "    }\n",
       "\n",
       "    .dataframe tbody tr th {\n",
       "        vertical-align: top;\n",
       "    }\n",
       "\n",
       "    .dataframe thead th {\n",
       "        text-align: right;\n",
       "    }\n",
       "</style>\n",
       "<table border=\"1\" class=\"dataframe\">\n",
       "  <thead>\n",
       "    <tr style=\"text-align: right;\">\n",
       "      <th></th>\n",
       "      <th>Feature</th>\n",
       "      <th>Importance</th>\n",
       "    </tr>\n",
       "  </thead>\n",
       "  <tbody>\n",
       "    <tr>\n",
       "      <th>6</th>\n",
       "      <td>TOTAL</td>\n",
       "      <td>0.497691</td>\n",
       "    </tr>\n",
       "    <tr>\n",
       "      <th>2</th>\n",
       "      <td>Issue Price (Rs Cr)</td>\n",
       "      <td>0.125151</td>\n",
       "    </tr>\n",
       "    <tr>\n",
       "      <th>5</th>\n",
       "      <td>RII</td>\n",
       "      <td>0.089423</td>\n",
       "    </tr>\n",
       "    <tr>\n",
       "      <th>3</th>\n",
       "      <td>QIB</td>\n",
       "      <td>0.089269</td>\n",
       "    </tr>\n",
       "    <tr>\n",
       "      <th>4</th>\n",
       "      <td>NII</td>\n",
       "      <td>0.086601</td>\n",
       "    </tr>\n",
       "    <tr>\n",
       "      <th>0</th>\n",
       "      <td>Issue Price</td>\n",
       "      <td>0.063542</td>\n",
       "    </tr>\n",
       "    <tr>\n",
       "      <th>1</th>\n",
       "      <td>Lot Size</td>\n",
       "      <td>0.048322</td>\n",
       "    </tr>\n",
       "  </tbody>\n",
       "</table>\n",
       "</div>"
      ],
      "text/plain": [
       "               Feature  Importance\n",
       "6                TOTAL    0.497691\n",
       "2  Issue Price (Rs Cr)    0.125151\n",
       "5                  RII    0.089423\n",
       "3                  QIB    0.089269\n",
       "4                  NII    0.086601\n",
       "0          Issue Price    0.063542\n",
       "1             Lot Size    0.048322"
      ]
     },
     "execution_count": 38,
     "metadata": {},
     "output_type": "execute_result"
    }
   ],
   "source": [
    "# Separate features and target\n",
    "X = fd.drop('target', axis=1)\n",
    "y = fd['target']\n",
    "\n",
    "# Train a random forest regressor to get feature importance\n",
    "model = RandomForestRegressor()\n",
    "model.fit(X, y)\n",
    "importances = model.feature_importances_\n",
    "feature_importances = pd.DataFrame({'Feature': X.columns, 'Importance': importances})\n",
    "feature_importances = feature_importances.sort_values(by='Importance', ascending=False)\n",
    "feature_importances"
   ]
  },
  {
   "cell_type": "code",
   "execution_count": 39,
   "id": "25945867",
   "metadata": {},
   "outputs": [
    {
     "name": "stdout",
     "output_type": "stream",
     "text": [
      "target\n",
      "1    384\n",
      "0    214\n",
      "Name: count, dtype: int64\n"
     ]
    }
   ],
   "source": [
    "# Convert the target column into Factor type\n",
    "fd['target'] = fd['target'].factorize()[0]\n",
    "\n",
    "# Check for available target values\n",
    "print(fd['target'].value_counts())"
   ]
  },
  {
   "cell_type": "code",
   "execution_count": 40,
   "id": "0efd1b23",
   "metadata": {},
   "outputs": [
    {
     "data": {
      "image/png": "[encoded data removed]",
      "text/plain": [
       "<Figure size 640x480 with 1 Axes>"
      ]
     },
     "metadata": {},
     "output_type": "display_data"
    }
   ],
   "source": [
    "# Visualizing the distribution of the target\n",
    "sns.countplot(x='target', data=fd)\n",
    "plt.title('Distribution of Target Classes')\n",
    "plt.xlabel('Class')\n",
    "plt.ylabel('Frequency')\n",
    "plt.show()"
   ]
  },
  {
   "cell_type": "code",
   "execution_count": 41,
   "id": "763619a3",
   "metadata": {},
   "outputs": [],
   "source": [
    "X_train, X_test, Y_train, Y_test = train_test_split(X, y, random_state=42, test_size=0.20, shuffle=True)"
   ]
  },
  {
   "cell_type": "code",
   "execution_count": 43,
   "id": "27a2ef48",
   "metadata": {},
   "outputs": [
    {
     "data": {
      "text/plain": [
       "((478, 7), (120, 7))"
      ]
     },
     "execution_count": 43,
     "metadata": {},
     "output_type": "execute_result"
    }
   ],
   "source": [
    "X_train.shape, X_test.shape"
   ]
  },
  {
   "cell_type": "code",
   "execution_count": 44,
   "id": "48943541",
   "metadata": {},
   "outputs": [
    {
     "name": "stderr",
     "output_type": "stream",
     "text": [
      "/Users/siddharthhaveliwala/anaconda3/lib/python3.11/site-packages/sklearn/svm/_base.py:297: ConvergenceWarning: Solver terminated early (max_iter=100).  Consider pre-processing your data with StandardScaler or MinMaxScaler.\n",
      "  warnings.warn(\n"
     ]
    }
   ],
   "source": [
    "# Fit a Decision Tree Classifier\n",
    "decision_tree = DecisionTreeClassifier(random_state=42)\n",
    "decision_tree.fit(X_train, Y_train)\n",
    "\n",
    "# Fit Random Forest Classifier\n",
    "random_forest = RandomForestClassifier(n_estimators=100, random_state=42)\n",
    "random_forest.fit(X_train, Y_train)\n",
    "\n",
    "# Fit SVM Classifier\n",
    "svm_model = SVC(kernel='linear', random_state=42, max_iter=100)\n",
    "svm_model.fit(X_train, Y_train)\n",
    "\n",
    "decision_tree_predictions = decision_tree.predict(X_test)\n",
    "random_forest_predictions = random_forest.predict(X_test)\n",
    "svm_predictions = svm_model.predict(X_test)"
   ]
  },
  {
   "cell_type": "code",
   "execution_count": 45,
   "id": "5bc95c57",
   "metadata": {},
   "outputs": [
    {
     "name": "stdout",
     "output_type": "stream",
     "text": [
      "{'Decision Tree': 0.7083333333333334, 'Random Forest': 0.75, 'SVM': 0.7166666666666667}\n"
     ]
    },
    {
     "data": {
      "image/png": "[encoded data removed]",
      "text/plain": [
       "<Figure size 1000x600 with 1 Axes>"
      ]
     },
     "metadata": {},
     "output_type": "display_data"
    }
   ],
   "source": [
    "# Plot the Accuracy for fitted models (without Bayesian Optimization)\n",
    "decision_tree_accuracy = accuracy_score(Y_test, decision_tree_predictions)\n",
    "random_forest_accuracy = accuracy_score(Y_test, random_forest_predictions)\n",
    "svm_accuracy = accuracy_score(Y_test, svm_predictions)\n",
    "\n",
    "accuracies = {\n",
    "    'Decision Tree': decision_tree_accuracy,\n",
    "    'Random Forest': random_forest_accuracy,\n",
    "    'SVM': svm_accuracy\n",
    "}\n",
    "\n",
    "print(accuracies)\n",
    "plt.figure(figsize=(10, 6))\n",
    "plt.bar(accuracies.keys(), accuracies.values())\n",
    "plt.xlabel('Models')\n",
    "plt.ylabel('Accuracy')\n",
    "plt.title('Comparison of Model Accuracies')\n",
    "plt.ylim([0, 1])  # Accuracy ranges between 0 and 1\n",
    "plt.show()\n"
   ]
  },
  {
   "cell_type": "code",
   "execution_count": 46,
   "id": "fab50d57",
   "metadata": {},
   "outputs": [
    {
     "name": "stdout",
     "output_type": "stream",
     "text": [
      "|   iter    |  target   | max_depth | min_sa... | min_sa... |\n",
      "-------------------------------------------------------------\n",
      "| \u001b[30m1         | \u001b[30m0.8243    | \u001b[30m5.622     | \u001b[30m9.556     | \u001b[30m15.18     |\n",
      "| \u001b[30m2         | \u001b[30m0.7509    | \u001b[30m7.191     | \u001b[30m2.404     | \u001b[30m4.808     |\n",
      "| \u001b[35m3         | \u001b[35m0.8389    | \u001b[35m3.407     | \u001b[35m8.796     | \u001b[35m12.82     |\n",
      "| \u001b[30m4         | \u001b[30m0.7823    | \u001b[30m7.957     | \u001b[30m1.185     | \u001b[30m19.46     |\n",
      "| \u001b[30m5         | \u001b[30m0.755     | \u001b[30m8.827     | \u001b[30m2.911     | \u001b[30m5.273     |\n",
      "| \u001b[30m6         | \u001b[30m0.7928    | \u001b[30m4.284     | \u001b[30m3.738     | \u001b[30m11.45     |\n",
      "| \u001b[30m7         | \u001b[30m0.7844    | \u001b[30m6.024     | \u001b[30m3.621     | \u001b[30m13.01     |\n",
      "| \u001b[30m8         | \u001b[30m0.8389    | \u001b[30m3.976     | \u001b[30m3.629     | \u001b[30m8.595     |\n",
      "| \u001b[30m9         | \u001b[30m0.8201    | \u001b[30m6.192     | \u001b[30m8.067     | \u001b[30m5.594     |\n",
      "| \u001b[30m10        | \u001b[30m0.7928    | \u001b[30m6.6       | \u001b[30m6.332     | \u001b[30m2.836     |\n",
      "| \u001b[30m11        | \u001b[30m0.8389    | \u001b[30m3.0       | \u001b[30m6.773     | \u001b[30m8.311     |\n",
      "| \u001b[30m12        | \u001b[30m0.8264    | \u001b[30m5.449     | \u001b[30m10.0      | \u001b[30m10.06     |\n",
      "| \u001b[30m13        | \u001b[30m0.8389    | \u001b[30m3.0       | \u001b[30m10.0      | \u001b[30m5.716     |\n",
      "| \u001b[30m14        | \u001b[30m0.8389    | \u001b[30m3.0       | \u001b[30m10.0      | \u001b[30m19.95     |\n",
      "| \u001b[30m15        | \u001b[30m0.8243    | \u001b[30m7.824     | \u001b[30m10.0      | \u001b[30m20.0      |\n",
      "| \u001b[30m16        | \u001b[30m0.8389    | \u001b[30m3.0       | \u001b[30m6.24      | \u001b[30m20.0      |\n",
      "| \u001b[30m17        | \u001b[30m0.8389    | \u001b[30m3.0       | \u001b[30m10.0      | \u001b[30m2.0       |\n",
      "| \u001b[30m18        | \u001b[30m0.8389    | \u001b[30m3.0       | \u001b[30m8.012     | \u001b[30m16.92     |\n",
      "| \u001b[30m19        | \u001b[30m0.8243    | \u001b[30m10.0      | \u001b[30m10.0      | \u001b[30m2.0       |\n",
      "| \u001b[30m20        | \u001b[30m0.8243    | \u001b[30m10.0      | \u001b[30m10.0      | \u001b[30m8.555     |\n",
      "| \u001b[30m21        | \u001b[30m0.8347    | \u001b[30m3.0       | \u001b[30m1.0       | \u001b[30m7.745     |\n",
      "| \u001b[30m22        | \u001b[30m0.8389    | \u001b[30m3.0       | \u001b[30m4.535     | \u001b[30m6.205     |\n",
      "| \u001b[30m23        | \u001b[30m0.8243    | \u001b[30m10.0      | \u001b[30m10.0      | \u001b[30m14.06     |\n",
      "| \u001b[30m24        | \u001b[30m0.8389    | \u001b[30m3.0       | \u001b[30m10.0      | \u001b[30m15.04     |\n",
      "| \u001b[30m25        | \u001b[30m0.8389    | \u001b[30m3.0       | \u001b[30m10.0      | \u001b[30m10.27     |\n",
      "| \u001b[30m26        | \u001b[30m0.8012    | \u001b[30m10.0      | \u001b[30m6.843     | \u001b[30m20.0      |\n",
      "| \u001b[30m27        | \u001b[30m0.8347    | \u001b[30m3.0       | \u001b[30m1.0       | \u001b[30m20.0      |\n",
      "| \u001b[30m28        | \u001b[30m0.8264    | \u001b[30m5.954     | \u001b[30m10.0      | \u001b[30m2.0       |\n",
      "| \u001b[30m29        | \u001b[30m0.8389    | \u001b[30m3.0       | \u001b[30m3.802     | \u001b[30m17.95     |\n",
      "| \u001b[30m30        | \u001b[30m0.8389    | \u001b[30m3.0       | \u001b[30m7.749     | \u001b[30m3.984     |\n",
      "| \u001b[30m31        | \u001b[30m0.8347    | \u001b[30m3.0       | \u001b[30m1.0       | \u001b[30m16.78     |\n",
      "| \u001b[30m32        | \u001b[30m0.8389    | \u001b[30m3.0       | \u001b[30m3.701     | \u001b[30m8.099     |\n",
      "| \u001b[30m33        | \u001b[30m0.8221    | \u001b[30m4.975     | \u001b[30m8.151     | \u001b[30m20.0      |\n",
      "| \u001b[30m34        | \u001b[30m0.8389    | \u001b[30m3.0       | \u001b[30m5.627     | \u001b[30m2.0       |\n",
      "| \u001b[30m35        | \u001b[30m0.8347    | \u001b[30m3.0       | \u001b[30m1.0       | \u001b[30m2.0       |\n",
      "=============================================================\n",
      "Accuracy of the best Decision Tree: 0.7667\n"
     ]
    }
   ],
   "source": [
    "# Create dtree_cv function for Decision Tree\n",
    "def dtree_cv(max_depth, min_samples_split, min_samples_leaf):\n",
    "    estimator = DecisionTreeClassifier(\n",
    "        max_depth=int(max_depth),\n",
    "        min_samples_split=int(min_samples_split),\n",
    "        min_samples_leaf=int(min_samples_leaf),\n",
    "        random_state=42\n",
    "    )\n",
    "    # Implement 5-fold cross-validation on the dataset\n",
    "    cval = cross_val_score(estimator, X_train, Y_train, scoring='accuracy', cv=5)\n",
    "    return cval.mean()\n",
    "\n",
    "# Define Hyperparameter space\n",
    "params = {\n",
    "    'max_depth': (3, 10),\n",
    "    'min_samples_split': (2, 20),\n",
    "    'min_samples_leaf': (1, 10)\n",
    "}\n",
    "\n",
    "# Implement Bayesian Optimization\n",
    "optimizer = BayesianOptimization(f=dtree_cv, pbounds=params, random_state=42)\n",
    "optimizer.maximize(init_points=10, n_iter=25)\n",
    "\n",
    "# Extract the best hyperparameters\n",
    "best_params = optimizer.max['params']\n",
    "best_params['max_depth'] = int(best_params['max_depth'])\n",
    "best_params['min_samples_split'] = int(best_params['min_samples_split'])\n",
    "best_params['min_samples_leaf'] = int(best_params['min_samples_leaf'])\n",
    "\n",
    "# Train Decision Tree classifier with selected best hyperparameters\n",
    "best_tree = DecisionTreeClassifier(**best_params, random_state=42)\n",
    "best_tree.fit(X_train, Y_train)\n",
    "\n",
    "predictions = best_tree.predict(X_test)\n",
    "\n",
    "accuracy_dtree = accuracy_score(Y_test, predictions)\n",
    "print(f\"Accuracy of the best Decision Tree: {accuracy_dtree:.4f}\")"
   ]
  },
  {
   "cell_type": "code",
   "execution_count": 47,
   "id": "27bc4ac5",
   "metadata": {},
   "outputs": [
    {
     "name": "stdout",
     "output_type": "stream",
     "text": [
      "|   iter    |  target   | max_depth | min_sa... | min_sa... | n_esti... |\n",
      "-------------------------------------------------------------------------\n",
      "| \u001b[30m1         | \u001b[30m0.8389    | \u001b[30m14.36     | \u001b[30m9.556     | \u001b[30m15.18     | \u001b[30m153.7     |\n",
      "| \u001b[30m2         | \u001b[30m0.8264    | \u001b[30m8.9       | \u001b[30m2.404     | \u001b[30m3.046     | \u001b[30m217.9     |\n",
      "| \u001b[30m3         | \u001b[30m0.8347    | \u001b[30m20.03     | \u001b[30m7.373     | \u001b[30m2.371     | \u001b[30m242.8     |\n",
      "| \u001b[30m4         | \u001b[30m0.818     | \u001b[30m25.81     | \u001b[30m2.911     | \u001b[30m5.273     | \u001b[30m54.02     |\n",
      "| \u001b[30m5         | \u001b[30m0.8306    | \u001b[30m12.61     | \u001b[30m5.723     | \u001b[30m9.775     | \u001b[30m79.89     |\n",
      "| \u001b[30m6         | \u001b[30m0.8243    | \u001b[30m20.3      | \u001b[30m2.255     | \u001b[30m7.259     | \u001b[30m97.93     |\n",
      "| \u001b[30m7         | \u001b[30m0.8368    | \u001b[30m16.4      | \u001b[30m8.067     | \u001b[30m5.594     | \u001b[30m133.4     |\n",
      "| \u001b[30m8         | \u001b[30m0.8243    | \u001b[30m19.81     | \u001b[30m1.418     | \u001b[30m12.94     | \u001b[30m50.93     |\n",
      "| \u001b[30m9         | \u001b[30m0.8389    | \u001b[30m6.626     | \u001b[30m9.54      | \u001b[30m19.38     | \u001b[30m204.0     |\n",
      "| \u001b[30m10        | \u001b[30m0.8327    | \u001b[30m12.62     | \u001b[30m1.879     | \u001b[30m14.32     | \u001b[30m115.6     |\n",
      "| \u001b[30m11        | \u001b[30m0.8389    | \u001b[30m9.093     | \u001b[30m5.632     | \u001b[30m18.42     | \u001b[30m141.1     |\n",
      "| \u001b[30m12        | \u001b[30m0.8368    | \u001b[30m7.787     | \u001b[30m10.0      | \u001b[30m20.0      | \u001b[30m182.9     |\n",
      "| \u001b[30m13        | \u001b[30m0.8327    | \u001b[30m30.0      | \u001b[30m1.0       | \u001b[30m20.0      | \u001b[30m145.3     |\n",
      "| \u001b[30m14        | \u001b[30m0.8389    | \u001b[30m9.558     | \u001b[30m5.475     | \u001b[30m18.09     | \u001b[30m140.0     |\n",
      "| \u001b[30m15        | \u001b[30m0.8306    | \u001b[30m5.0       | \u001b[30m1.0       | \u001b[30m2.0       | \u001b[30m156.1     |\n",
      "| \u001b[30m16        | \u001b[30m0.8389    | \u001b[30m27.84     | \u001b[30m10.0      | \u001b[30m20.0      | \u001b[30m195.8     |\n",
      "| \u001b[30m17        | \u001b[30m0.8368    | \u001b[30m30.0      | \u001b[30m10.0      | \u001b[30m5.99      | \u001b[30m176.6     |\n",
      "| \u001b[30m18        | \u001b[30m0.8389    | \u001b[30m30.0      | \u001b[30m10.0      | \u001b[30m20.0      | \u001b[30m218.7     |\n",
      "| \u001b[30m19        | \u001b[30m0.8347    | \u001b[30m30.0      | \u001b[30m1.0       | \u001b[30m20.0      | \u001b[30m250.0     |\n",
      "| \u001b[30m20        | \u001b[30m0.8368    | \u001b[30m5.0       | \u001b[30m2.355     | \u001b[30m20.0      | \u001b[30m10.0      |\n",
      "| \u001b[30m21        | \u001b[30m0.8305    | \u001b[30m30.0      | \u001b[30m10.0      | \u001b[30m20.0      | \u001b[30m10.0      |\n",
      "| \u001b[30m22        | \u001b[30m0.8326    | \u001b[30m5.0       | \u001b[30m10.0      | \u001b[30m20.0      | \u001b[30m250.0     |\n",
      "| \u001b[30m23        | \u001b[30m0.8389    | \u001b[30m30.0      | \u001b[30m10.0      | \u001b[30m2.0       | \u001b[30m199.9     |\n",
      "| \u001b[30m24        | \u001b[30m0.8347    | \u001b[30m30.0      | \u001b[30m1.0       | \u001b[30m20.0      | \u001b[30m206.7     |\n",
      "| \u001b[30m25        | \u001b[30m0.8368    | \u001b[30m14.2      | \u001b[30m10.0      | \u001b[30m2.0       | \u001b[30m190.0     |\n",
      "| \u001b[30m26        | \u001b[30m0.8222    | \u001b[30m5.0       | \u001b[30m1.0       | \u001b[30m2.0       | \u001b[30m10.0      |\n",
      "| \u001b[30m27        | \u001b[30m0.8326    | \u001b[30m26.4      | \u001b[30m1.0       | \u001b[30m20.0      | \u001b[30m177.4     |\n",
      "| \u001b[30m28        | \u001b[30m0.8368    | \u001b[30m30.0      | \u001b[30m10.0      | \u001b[30m2.0       | \u001b[30m153.5     |\n",
      "| \u001b[30m29        | \u001b[30m0.8389    | \u001b[30m30.0      | \u001b[30m10.0      | \u001b[30m20.0      | \u001b[30m234.0     |\n",
      "| \u001b[30m30        | \u001b[30m0.8347    | \u001b[30m5.0       | \u001b[30m10.0      | \u001b[30m20.0      | \u001b[30m128.3     |\n",
      "| \u001b[30m31        | \u001b[30m0.8389    | \u001b[30m30.0      | \u001b[30m10.0      | \u001b[30m2.0       | \u001b[30m225.1     |\n",
      "| \u001b[30m32        | \u001b[30m0.8389    | \u001b[30m17.76     | \u001b[30m10.0      | \u001b[30m15.46     | \u001b[30m199.4     |\n",
      "| \u001b[30m33        | \u001b[30m0.8326    | \u001b[30m5.0       | \u001b[30m10.0      | \u001b[30m20.0      | \u001b[30m28.56     |\n",
      "| \u001b[30m34        | \u001b[30m0.8347    | \u001b[30m5.0       | \u001b[30m1.0       | \u001b[30m20.0      | \u001b[30m194.7     |\n",
      "| \u001b[30m35        | \u001b[30m0.8389    | \u001b[30m16.37     | \u001b[30m10.0      | \u001b[30m20.0      | \u001b[30m224.1     |\n",
      "=========================================================================\n",
      "Accuracy of the best RandomForest: 0.7667\n"
     ]
    }
   ],
   "source": [
    "# Define rf_cv function to be maximized and include hyperparameters for tuning for Random Forest\n",
    "def rf_cv(n_estimators, max_depth, min_samples_split, min_samples_leaf):\n",
    "    n_estimators = int(n_estimators)\n",
    "    max_depth = int(max_depth)\n",
    "    min_samples_split = int(min_samples_split)\n",
    "    min_samples_leaf = int(min_samples_leaf)\n",
    "    estimator = RandomForestClassifier(\n",
    "        n_estimators=n_estimators,\n",
    "        max_depth=max_depth,\n",
    "        min_samples_split=min_samples_split,\n",
    "        min_samples_leaf=min_samples_leaf,\n",
    "        random_state=42\n",
    "    )\n",
    "\n",
    "    # Apply 5-fold cross-validation\n",
    "    cval = cross_val_score(estimator, X_train, Y_train, scoring='accuracy', cv=5)\n",
    "\n",
    "    return cval.mean()\n",
    "\n",
    "params = {\n",
    "    'n_estimators': (10, 250),\n",
    "    'max_depth': (5, 30),\n",
    "    'min_samples_split': (2, 20),\n",
    "    'min_samples_leaf': (1, 10)\n",
    "}\n",
    "\n",
    "# Run Bayesian Optimization\n",
    "optimizer = BayesianOptimization(f=rf_cv, pbounds=params, random_state=42)\n",
    "optimizer.maximize(init_points=10, n_iter=25)\n",
    "\n",
    "# Extract the best hyperparameters\n",
    "best_params = optimizer.max['params']\n",
    "best_params['n_estimators'] = int(best_params['n_estimators'])\n",
    "best_params['max_depth'] = int(best_params['max_depth'])\n",
    "best_params['min_samples_split'] = int(best_params['min_samples_split'])\n",
    "best_params['min_samples_leaf'] = int(best_params['min_samples_leaf'])\n",
    "\n",
    "# Train the model with selected best hyperparameters\n",
    "best_rf = RandomForestClassifier(**best_params, random_state=42)\n",
    "best_rf.fit(X_train, Y_train)\n",
    "\n",
    "predictions = best_rf.predict(X_test)\n",
    "\n",
    "accuracy_rf = accuracy_score(Y_test, predictions)\n",
    "print(f\"Accuracy of the best RandomForest: {accuracy_rf:.4f}\")\n"
   ]
  },
  {
   "cell_type": "code",
   "execution_count": 48,
   "id": "86996ab2",
   "metadata": {},
   "outputs": [
    {
     "name": "stdout",
     "output_type": "stream",
     "text": [
      "Accuracy of AdaBoost Classifier: 0.7000\n",
      "Accuracy of CatBoost Classifier: 0.7583\n",
      "Accuracy of XGBoost Classifier: 0.7333\n"
     ]
    }
   ],
   "source": [
    "# Initialize the AdaBoost Classifier\n",
    "ada_clf = AdaBoostClassifier(n_estimators=100, random_state=42)\n",
    "\n",
    "ada_clf.fit(X_train, Y_train)\n",
    "ada_predictions = ada_clf.predict(X_test)\n",
    "\n",
    "ada_accuracy = accuracy_score(Y_test, ada_predictions)\n",
    "\n",
    "# Initialize the CatBoost Classifier\n",
    "cat_clf = CatBoostClassifier(iterations=100, learning_rate=0.1, depth=3, verbose=False, random_state=42)\n",
    "\n",
    "cat_clf.fit(X_train, Y_train)\n",
    "cat_predictions = cat_clf.predict(X_test)\n",
    "\n",
    "cat_accuracy = accuracy_score(Y_test, cat_predictions)\n",
    "\n",
    "# Initialize the XGBoost Classifier\n",
    "xgb_clf = XGBClassifier(n_estimators=100, learning_rate=0.1, max_depth=3, random_state=42)\n",
    "\n",
    "xgb_clf.fit(X_train, Y_train)\n",
    "xgb_predictions = xgb_clf.predict(X_test)\n",
    "\n",
    "xgb_accuracy = accuracy_score(Y_test, xgb_predictions)\n",
    "\n",
    "# Print the Boositng methods accuracies\n",
    "print(f\"Accuracy of AdaBoost Classifier: {ada_accuracy:.4f}\")\n",
    "print(f\"Accuracy of CatBoost Classifier: {cat_accuracy:.4f}\")\n",
    "print(f\"Accuracy of XGBoost Classifier: {xgb_accuracy:.4f}\")"
   ]
  },
  {
   "cell_type": "code",
   "execution_count": 50,
   "id": "d5efc0d8",
   "metadata": {},
   "outputs": [
    {
     "name": "stdout",
     "output_type": "stream",
     "text": [
      "|   iter    |  target   |     C     | l1_ratio  |\n",
      "-------------------------------------------------\n",
      "| \u001b[30m1         | \u001b[30m0.8348    | \u001b[30m3.746     | \u001b[30m0.9507    |\n"
     ]
    },
    {
     "name": "stderr",
     "output_type": "stream",
     "text": [
      "/Users/siddharthhaveliwala/anaconda3/lib/python3.11/site-packages/sklearn/linear_model/_sag.py:350: ConvergenceWarning: The max_iter was reached which means the coef_ did not converge\n",
      "  warnings.warn(\n"
     ]
    },
    {
     "name": "stdout",
     "output_type": "stream",
     "text": [
      "| \u001b[30m2         | \u001b[30m0.8348    | \u001b[30m7.32      | \u001b[30m0.5987    |\n",
      "| \u001b[30m3         | \u001b[30m0.8264    | \u001b[30m1.561     | \u001b[30m0.156     |\n",
      "| \u001b[30m4         | \u001b[30m0.8243    | \u001b[30m0.5818    | \u001b[30m0.8662    |\n",
      "| \u001b[30m5         | \u001b[30m0.8348    | \u001b[30m6.012     | \u001b[30m0.7081    |\n",
      "| \u001b[30m6         | \u001b[30m0.818     | \u001b[30m0.2068    | \u001b[30m0.9699    |\n",
      "| \u001b[30m7         | \u001b[30m0.8348    | \u001b[30m8.325     | \u001b[30m0.2123    |\n",
      "| \u001b[30m8         | \u001b[30m0.8285    | \u001b[30m1.819     | \u001b[30m0.1834    |\n",
      "| \u001b[30m9         | \u001b[30m0.8327    | \u001b[30m3.043     | \u001b[30m0.5248    |\n",
      "| \u001b[30m10        | \u001b[30m0.8327    | \u001b[30m4.32      | \u001b[30m0.2912    |\n",
      "| \u001b[30m11        | \u001b[30m0.8348    | \u001b[30m6.605     | \u001b[30m0.0       |\n"
     ]
    },
    {
     "name": "stderr",
     "output_type": "stream",
     "text": [
      "/Users/siddharthhaveliwala/anaconda3/lib/python3.11/site-packages/sklearn/linear_model/_sag.py:350: ConvergenceWarning: The max_iter was reached which means the coef_ did not converge\n",
      "  warnings.warn(\n",
      "/Users/siddharthhaveliwala/anaconda3/lib/python3.11/site-packages/sklearn/linear_model/_sag.py:350: ConvergenceWarning: The max_iter was reached which means the coef_ did not converge\n",
      "  warnings.warn(\n",
      "/Users/siddharthhaveliwala/anaconda3/lib/python3.11/site-packages/sklearn/linear_model/_sag.py:350: ConvergenceWarning: The max_iter was reached which means the coef_ did not converge\n",
      "  warnings.warn(\n",
      "/Users/siddharthhaveliwala/anaconda3/lib/python3.11/site-packages/sklearn/linear_model/_sag.py:350: ConvergenceWarning: The max_iter was reached which means the coef_ did not converge\n",
      "  warnings.warn(\n",
      "/Users/siddharthhaveliwala/anaconda3/lib/python3.11/site-packages/sklearn/linear_model/_sag.py:350: ConvergenceWarning: The max_iter was reached which means the coef_ did not converge\n",
      "  warnings.warn(\n"
     ]
    },
    {
     "name": "stdout",
     "output_type": "stream",
     "text": [
      "| \u001b[30m12        | \u001b[30m0.8348    | \u001b[30m9.043     | \u001b[30m1.0       |\n",
      "| \u001b[30m13        | \u001b[30m0.8348    | \u001b[30m9.562     | \u001b[30m0.0       |\n"
     ]
    },
    {
     "name": "stderr",
     "output_type": "stream",
     "text": [
      "/Users/siddharthhaveliwala/anaconda3/lib/python3.11/site-packages/sklearn/linear_model/_sag.py:350: ConvergenceWarning: The max_iter was reached which means the coef_ did not converge\n",
      "  warnings.warn(\n",
      "/Users/siddharthhaveliwala/anaconda3/lib/python3.11/site-packages/sklearn/linear_model/_sag.py:350: ConvergenceWarning: The max_iter was reached which means the coef_ did not converge\n",
      "  warnings.warn(\n",
      "/Users/siddharthhaveliwala/anaconda3/lib/python3.11/site-packages/sklearn/linear_model/_sag.py:350: ConvergenceWarning: The max_iter was reached which means the coef_ did not converge\n",
      "  warnings.warn(\n",
      "/Users/siddharthhaveliwala/anaconda3/lib/python3.11/site-packages/sklearn/linear_model/_sag.py:350: ConvergenceWarning: The max_iter was reached which means the coef_ did not converge\n",
      "  warnings.warn(\n",
      "/Users/siddharthhaveliwala/anaconda3/lib/python3.11/site-packages/sklearn/linear_model/_sag.py:350: ConvergenceWarning: The max_iter was reached which means the coef_ did not converge\n",
      "  warnings.warn(\n"
     ]
    },
    {
     "name": "stdout",
     "output_type": "stream",
     "text": [
      "| \u001b[35m14        | \u001b[35m0.8369    | \u001b[35m10.0      | \u001b[35m1.0       |\n"
     ]
    },
    {
     "name": "stderr",
     "output_type": "stream",
     "text": [
      "/Users/siddharthhaveliwala/anaconda3/lib/python3.11/site-packages/sklearn/linear_model/_sag.py:350: ConvergenceWarning: The max_iter was reached which means the coef_ did not converge\n",
      "  warnings.warn(\n",
      "/Users/siddharthhaveliwala/anaconda3/lib/python3.11/site-packages/sklearn/linear_model/_sag.py:350: ConvergenceWarning: The max_iter was reached which means the coef_ did not converge\n",
      "  warnings.warn(\n",
      "/Users/siddharthhaveliwala/anaconda3/lib/python3.11/site-packages/sklearn/linear_model/_sag.py:350: ConvergenceWarning: The max_iter was reached which means the coef_ did not converge\n",
      "  warnings.warn(\n",
      "/Users/siddharthhaveliwala/anaconda3/lib/python3.11/site-packages/sklearn/linear_model/_sag.py:350: ConvergenceWarning: The max_iter was reached which means the coef_ did not converge\n",
      "  warnings.warn(\n"
     ]
    },
    {
     "name": "stdout",
     "output_type": "stream",
     "text": [
      "| \u001b[35m15        | \u001b[35m0.8369    | \u001b[35m5.023     | \u001b[35m1.0       |\n",
      "| \u001b[30m16        | \u001b[30m0.8348    | \u001b[30m5.429     | \u001b[30m0.0       |\n"
     ]
    },
    {
     "name": "stderr",
     "output_type": "stream",
     "text": [
      "/Users/siddharthhaveliwala/anaconda3/lib/python3.11/site-packages/sklearn/linear_model/_sag.py:350: ConvergenceWarning: The max_iter was reached which means the coef_ did not converge\n",
      "  warnings.warn(\n",
      "/Users/siddharthhaveliwala/anaconda3/lib/python3.11/site-packages/sklearn/linear_model/_sag.py:350: ConvergenceWarning: The max_iter was reached which means the coef_ did not converge\n",
      "  warnings.warn(\n",
      "/Users/siddharthhaveliwala/anaconda3/lib/python3.11/site-packages/sklearn/linear_model/_sag.py:350: ConvergenceWarning: The max_iter was reached which means the coef_ did not converge\n",
      "  warnings.warn(\n",
      "/Users/siddharthhaveliwala/anaconda3/lib/python3.11/site-packages/sklearn/linear_model/_sag.py:350: ConvergenceWarning: The max_iter was reached which means the coef_ did not converge\n",
      "  warnings.warn(\n",
      "/Users/siddharthhaveliwala/anaconda3/lib/python3.11/site-packages/sklearn/linear_model/_sag.py:350: ConvergenceWarning: The max_iter was reached which means the coef_ did not converge\n",
      "  warnings.warn(\n"
     ]
    },
    {
     "name": "stdout",
     "output_type": "stream",
     "text": [
      "| \u001b[30m17        | \u001b[30m0.8348    | \u001b[30m8.054     | \u001b[30m1.0       |\n",
      "| \u001b[30m18        | \u001b[30m0.8348    | \u001b[30m10.0      | \u001b[30m0.4096    |\n"
     ]
    },
    {
     "name": "stderr",
     "output_type": "stream",
     "text": [
      "/Users/siddharthhaveliwala/anaconda3/lib/python3.11/site-packages/sklearn/linear_model/_sag.py:350: ConvergenceWarning: The max_iter was reached which means the coef_ did not converge\n",
      "  warnings.warn(\n",
      "/Users/siddharthhaveliwala/anaconda3/lib/python3.11/site-packages/sklearn/linear_model/_sag.py:350: ConvergenceWarning: The max_iter was reached which means the coef_ did not converge\n",
      "  warnings.warn(\n"
     ]
    },
    {
     "name": "stdout",
     "output_type": "stream",
     "text": [
      "| \u001b[30m19        | \u001b[30m0.8348    | \u001b[30m2.306     | \u001b[30m1.0       |\n",
      "| \u001b[30m20        | \u001b[30m0.8348    | \u001b[30m7.557     | \u001b[30m0.0       |\n"
     ]
    },
    {
     "name": "stderr",
     "output_type": "stream",
     "text": [
      "/Users/siddharthhaveliwala/anaconda3/lib/python3.11/site-packages/sklearn/linear_model/_sag.py:350: ConvergenceWarning: The max_iter was reached which means the coef_ did not converge\n",
      "  warnings.warn(\n",
      "/Users/siddharthhaveliwala/anaconda3/lib/python3.11/site-packages/sklearn/linear_model/_sag.py:350: ConvergenceWarning: The max_iter was reached which means the coef_ did not converge\n",
      "  warnings.warn(\n",
      "/Users/siddharthhaveliwala/anaconda3/lib/python3.11/site-packages/sklearn/linear_model/_sag.py:350: ConvergenceWarning: The max_iter was reached which means the coef_ did not converge\n",
      "  warnings.warn(\n"
     ]
    },
    {
     "name": "stdout",
     "output_type": "stream",
     "text": [
      "| \u001b[30m21        | \u001b[30m0.8369    | \u001b[30m4.468     | \u001b[30m1.0       |\n"
     ]
    },
    {
     "name": "stderr",
     "output_type": "stream",
     "text": [
      "/Users/siddharthhaveliwala/anaconda3/lib/python3.11/site-packages/sklearn/linear_model/_sag.py:350: ConvergenceWarning: The max_iter was reached which means the coef_ did not converge\n",
      "  warnings.warn(\n",
      "/Users/siddharthhaveliwala/anaconda3/lib/python3.11/site-packages/sklearn/linear_model/_sag.py:350: ConvergenceWarning: The max_iter was reached which means the coef_ did not converge\n",
      "  warnings.warn(\n",
      "/Users/siddharthhaveliwala/anaconda3/lib/python3.11/site-packages/sklearn/linear_model/_sag.py:350: ConvergenceWarning: The max_iter was reached which means the coef_ did not converge\n",
      "  warnings.warn(\n",
      "/Users/siddharthhaveliwala/anaconda3/lib/python3.11/site-packages/sklearn/linear_model/_sag.py:350: ConvergenceWarning: The max_iter was reached which means the coef_ did not converge\n",
      "  warnings.warn(\n",
      "/Users/siddharthhaveliwala/anaconda3/lib/python3.11/site-packages/sklearn/linear_model/_sag.py:350: ConvergenceWarning: The max_iter was reached which means the coef_ did not converge\n",
      "  warnings.warn(\n"
     ]
    },
    {
     "name": "stdout",
     "output_type": "stream",
     "text": [
      "| \u001b[30m22        | \u001b[30m0.8327    | \u001b[30m6.723     | \u001b[30m1.0       |\n",
      "| \u001b[30m23        | \u001b[30m0.8327    | \u001b[30m5.183     | \u001b[30m0.5755    |\n",
      "| \u001b[30m24        | \u001b[30m0.8348    | \u001b[30m5.995     | \u001b[30m0.0       |\n",
      "| \u001b[30m25        | \u001b[30m0.8348    | \u001b[30m8.922     | \u001b[30m0.0       |\n"
     ]
    },
    {
     "name": "stderr",
     "output_type": "stream",
     "text": [
      "/Users/siddharthhaveliwala/anaconda3/lib/python3.11/site-packages/sklearn/linear_model/_sag.py:350: ConvergenceWarning: The max_iter was reached which means the coef_ did not converge\n",
      "  warnings.warn(\n",
      "/Users/siddharthhaveliwala/anaconda3/lib/python3.11/site-packages/sklearn/linear_model/_sag.py:350: ConvergenceWarning: The max_iter was reached which means the coef_ did not converge\n",
      "  warnings.warn(\n"
     ]
    },
    {
     "name": "stdout",
     "output_type": "stream",
     "text": [
      "| \u001b[30m26        | \u001b[30m0.8369    | \u001b[30m9.568     | \u001b[30m0.7717    |\n"
     ]
    },
    {
     "name": "stderr",
     "output_type": "stream",
     "text": [
      "/Users/siddharthhaveliwala/anaconda3/lib/python3.11/site-packages/sklearn/linear_model/_sag.py:350: ConvergenceWarning: The max_iter was reached which means the coef_ did not converge\n",
      "  warnings.warn(\n",
      "/Users/siddharthhaveliwala/anaconda3/lib/python3.11/site-packages/sklearn/linear_model/_sag.py:350: ConvergenceWarning: The max_iter was reached which means the coef_ did not converge\n",
      "  warnings.warn(\n",
      "/Users/siddharthhaveliwala/anaconda3/lib/python3.11/site-packages/sklearn/linear_model/_sag.py:350: ConvergenceWarning: The max_iter was reached which means the coef_ did not converge\n",
      "  warnings.warn(\n",
      "/Users/siddharthhaveliwala/anaconda3/lib/python3.11/site-packages/sklearn/linear_model/_sag.py:350: ConvergenceWarning: The max_iter was reached which means the coef_ did not converge\n",
      "  warnings.warn(\n",
      "/Users/siddharthhaveliwala/anaconda3/lib/python3.11/site-packages/sklearn/linear_model/_sag.py:350: ConvergenceWarning: The max_iter was reached which means the coef_ did not converge\n",
      "  warnings.warn(\n"
     ]
    },
    {
     "name": "stdout",
     "output_type": "stream",
     "text": [
      "| \u001b[30m27        | \u001b[30m0.8348    | \u001b[30m5.59      | \u001b[30m1.0       |\n"
     ]
    },
    {
     "name": "stderr",
     "output_type": "stream",
     "text": [
      "/Users/siddharthhaveliwala/anaconda3/lib/python3.11/site-packages/sklearn/linear_model/_sag.py:350: ConvergenceWarning: The max_iter was reached which means the coef_ did not converge\n",
      "  warnings.warn(\n",
      "/Users/siddharthhaveliwala/anaconda3/lib/python3.11/site-packages/sklearn/linear_model/_sag.py:350: ConvergenceWarning: The max_iter was reached which means the coef_ did not converge\n",
      "  warnings.warn(\n",
      "/Users/siddharthhaveliwala/anaconda3/lib/python3.11/site-packages/sklearn/linear_model/_sag.py:350: ConvergenceWarning: The max_iter was reached which means the coef_ did not converge\n",
      "  warnings.warn(\n",
      "/Users/siddharthhaveliwala/anaconda3/lib/python3.11/site-packages/sklearn/linear_model/_sag.py:350: ConvergenceWarning: The max_iter was reached which means the coef_ did not converge\n",
      "  warnings.warn(\n",
      "/Users/siddharthhaveliwala/anaconda3/lib/python3.11/site-packages/sklearn/linear_model/_sag.py:350: ConvergenceWarning: The max_iter was reached which means the coef_ did not converge\n",
      "  warnings.warn(\n"
     ]
    },
    {
     "name": "stdout",
     "output_type": "stream",
     "text": [
      "| \u001b[30m28        | \u001b[30m0.8348    | \u001b[30m9.633     | \u001b[30m1.0       |\n",
      "| \u001b[30m29        | \u001b[30m0.8348    | \u001b[30m9.163     | \u001b[30m0.4778    |\n",
      "| \u001b[30m30        | \u001b[30m0.8306    | \u001b[30m3.556     | \u001b[30m0.0       |\n"
     ]
    },
    {
     "name": "stderr",
     "output_type": "stream",
     "text": [
      "/Users/siddharthhaveliwala/anaconda3/lib/python3.11/site-packages/sklearn/linear_model/_sag.py:350: ConvergenceWarning: The max_iter was reached which means the coef_ did not converge\n",
      "  warnings.warn(\n",
      "/Users/siddharthhaveliwala/anaconda3/lib/python3.11/site-packages/sklearn/linear_model/_sag.py:350: ConvergenceWarning: The max_iter was reached which means the coef_ did not converge\n",
      "  warnings.warn(\n"
     ]
    },
    {
     "name": "stdout",
     "output_type": "stream",
     "text": [
      "| \u001b[30m31        | \u001b[30m0.8348    | \u001b[30m2.94      | \u001b[30m1.0       |\n",
      "| \u001b[30m32        | \u001b[30m0.8348    | \u001b[30m7.846     | \u001b[30m0.4971    |\n"
     ]
    },
    {
     "name": "stderr",
     "output_type": "stream",
     "text": [
      "/Users/siddharthhaveliwala/anaconda3/lib/python3.11/site-packages/sklearn/linear_model/_sag.py:350: ConvergenceWarning: The max_iter was reached which means the coef_ did not converge\n",
      "  warnings.warn(\n",
      "/Users/siddharthhaveliwala/anaconda3/lib/python3.11/site-packages/sklearn/linear_model/_sag.py:350: ConvergenceWarning: The max_iter was reached which means the coef_ did not converge\n",
      "  warnings.warn(\n"
     ]
    },
    {
     "name": "stdout",
     "output_type": "stream",
     "text": [
      "| \u001b[30m33        | \u001b[30m0.8369    | \u001b[30m8.53      | \u001b[30m0.8058    |\n",
      "| \u001b[30m34        | \u001b[30m0.8306    | \u001b[30m1.659     | \u001b[30m1.0       |\n"
     ]
    },
    {
     "name": "stderr",
     "output_type": "stream",
     "text": [
      "/Users/siddharthhaveliwala/anaconda3/lib/python3.11/site-packages/sklearn/linear_model/_sag.py:350: ConvergenceWarning: The max_iter was reached which means the coef_ did not converge\n",
      "  warnings.warn(\n",
      "/Users/siddharthhaveliwala/anaconda3/lib/python3.11/site-packages/sklearn/linear_model/_sag.py:350: ConvergenceWarning: The max_iter was reached which means the coef_ did not converge\n",
      "  warnings.warn(\n",
      "/Users/siddharthhaveliwala/anaconda3/lib/python3.11/site-packages/sklearn/linear_model/_sag.py:350: ConvergenceWarning: The max_iter was reached which means the coef_ did not converge\n",
      "  warnings.warn(\n"
     ]
    },
    {
     "name": "stdout",
     "output_type": "stream",
     "text": [
      "| \u001b[30m35        | \u001b[30m0.8369    | \u001b[30m4.746     | \u001b[30m1.0       |\n",
      "=================================================\n",
      "Accuracy of the best Logistic Regression: 0.7667\n"
     ]
    },
    {
     "name": "stderr",
     "output_type": "stream",
     "text": [
      "/Users/siddharthhaveliwala/anaconda3/lib/python3.11/site-packages/sklearn/linear_model/_sag.py:350: ConvergenceWarning: The max_iter was reached which means the coef_ did not converge\n",
      "  warnings.warn(\n",
      "/Users/siddharthhaveliwala/anaconda3/lib/python3.11/site-packages/sklearn/linear_model/_sag.py:350: ConvergenceWarning: The max_iter was reached which means the coef_ did not converge\n",
      "  warnings.warn(\n",
      "/Users/siddharthhaveliwala/anaconda3/lib/python3.11/site-packages/sklearn/linear_model/_sag.py:350: ConvergenceWarning: The max_iter was reached which means the coef_ did not converge\n",
      "  warnings.warn(\n"
     ]
    }
   ],
   "source": [
    "# Define logistic_cv function for Logistic Regression\n",
    "def logistic_cv(C, l1_ratio):\n",
    "\n",
    "    estimator = LogisticRegression(\n",
    "        C=C,\n",
    "        penalty='elasticnet',\n",
    "        l1_ratio=l1_ratio,\n",
    "        solver='saga',\n",
    "        max_iter=1000,\n",
    "        random_state=42\n",
    "    )\n",
    "\n",
    "    cval = cross_val_score(estimator, X_train, Y_train, scoring='accuracy', cv=5)\n",
    "    return cval.mean()\n",
    "\n",
    "\n",
    "params = {\n",
    "    'C': (0.001, 10),  # Regularization parameter\n",
    "    'l1_ratio': (0, 1)  # Balance of L1 and L2 regularization\n",
    "}\n",
    "\n",
    "# Run Bayesian Optimization\n",
    "optimizer = BayesianOptimization(f=logistic_cv, pbounds=params, random_state=42)\n",
    "optimizer.maximize(init_points=10, n_iter=25)\n",
    "\n",
    "# Extract the best hyperparameters\n",
    "best_params = optimizer.max['params']\n",
    "\n",
    "# Train the model with the best hyperparameters\n",
    "best_logistic = LogisticRegression(\n",
    "    C=best_params['C'],\n",
    "    penalty='elasticnet',\n",
    "    l1_ratio=best_params['l1_ratio'],\n",
    "    solver='saga',\n",
    "    max_iter=1000,\n",
    "    random_state=42\n",
    ")\n",
    "best_logistic.fit(X_train, Y_train)\n",
    "\n",
    "# Predictions\n",
    "predictions = best_logistic.predict(X_test)\n",
    "\n",
    "# Evaluation\n",
    "accuracy_log = accuracy_score(Y_test, predictions)\n",
    "print(f\"Accuracy of the best Logistic Regression: {accuracy_log:.4f}\")"
   ]
  },
  {
   "cell_type": "code",
   "execution_count": 51,
   "id": "7f39f026",
   "metadata": {},
   "outputs": [
    {
     "name": "stdout",
     "output_type": "stream",
     "text": [
      "|   iter    |  target   |     C     |   gamma   |\n",
      "-------------------------------------------------\n",
      "| \u001b[30m1         | \u001b[30m0.755     | \u001b[30m37.45     | \u001b[30m4.754     |\n",
      "| \u001b[35m2         | \u001b[35m0.7676    | \u001b[35m73.2      | \u001b[35m2.993     |\n",
      "| \u001b[35m3         | \u001b[35m0.8076    | \u001b[35m15.6      | \u001b[35m0.7801    |\n",
      "| \u001b[30m4         | \u001b[30m0.776     | \u001b[30m5.809     | \u001b[30m4.331     |\n",
      "| \u001b[30m5         | \u001b[30m0.7634    | \u001b[30m60.11     | \u001b[30m3.54      |\n",
      "| \u001b[30m6         | \u001b[30m0.7991    | \u001b[30m2.059     | \u001b[30m4.85      |\n",
      "| \u001b[30m7         | \u001b[30m0.7866    | \u001b[30m83.24     | \u001b[30m1.062     |\n",
      "| \u001b[30m8         | \u001b[30m0.8055    | \u001b[30m18.18     | \u001b[30m0.9171    |\n",
      "| \u001b[30m9         | \u001b[30m0.7677    | \u001b[30m30.42     | \u001b[30m2.624     |\n",
      "| \u001b[30m10        | \u001b[30m0.774     | \u001b[30m43.2      | \u001b[30m1.456     |\n",
      "| \u001b[30m11        | \u001b[30m0.7613    | \u001b[30m16.58     | \u001b[30m5.0       |\n",
      "| \u001b[30m12        | \u001b[30m0.6486    | \u001b[30m16.9      | \u001b[30m0.0001    |\n",
      "| \u001b[30m13        | \u001b[30m0.7992    | \u001b[30m25.57     | \u001b[30m0.8405    |\n",
      "| \u001b[30m14        | \u001b[30m0.7824    | \u001b[30m86.48     | \u001b[30m1.093     |\n",
      "| \u001b[30m15        | \u001b[30m0.7529    | \u001b[30m44.35     | \u001b[30m4.0       |\n",
      "| \u001b[30m16        | \u001b[30m0.7782    | \u001b[30m65.15     | \u001b[30m1.77      |\n",
      "| \u001b[30m17        | \u001b[30m0.7592    | \u001b[30m41.26     | \u001b[30m3.727     |\n",
      "| \u001b[30m18        | \u001b[30m0.7781    | \u001b[30m71.97     | \u001b[30m1.989     |\n",
      "| \u001b[30m19        | \u001b[30m0.7781    | \u001b[30m95.63     | \u001b[30m1.868     |\n",
      "| \u001b[30m20        | \u001b[30m0.7719    | \u001b[30m53.81     | \u001b[30m1.621     |\n",
      "| \u001b[30m21        | \u001b[30m0.7676    | \u001b[30m46.9      | \u001b[30m3.094     |\n",
      "| \u001b[30m22        | \u001b[30m0.7718    | \u001b[30m98.04     | \u001b[30m3.686     |\n",
      "| \u001b[30m23        | \u001b[30m0.8034    | \u001b[30m40.82     | \u001b[30m0.9286    |\n",
      "| \u001b[30m24        | \u001b[30m0.7677    | \u001b[30m44.34     | \u001b[30m1.979     |\n",
      "| \u001b[30m25        | \u001b[30m0.7719    | \u001b[30m39.67     | \u001b[30m1.653     |\n",
      "| \u001b[30m26        | \u001b[30m0.774     | \u001b[30m39.87     | \u001b[30m1.754     |\n",
      "| \u001b[30m27        | \u001b[30m0.8055    | \u001b[30m74.19     | \u001b[30m0.4676    |\n",
      "| \u001b[30m28        | \u001b[30m0.755     | \u001b[30m55.46     | \u001b[30m4.501     |\n",
      "| \u001b[30m29        | \u001b[30m0.7739    | \u001b[30m6.172     | \u001b[30m4.307     |\n",
      "| \u001b[30m30        | \u001b[30m0.8076    | \u001b[30m15.12     | \u001b[30m1.071     |\n",
      "| \u001b[30m31        | \u001b[30m0.8034    | \u001b[30m15.66     | \u001b[30m1.471     |\n",
      "| \u001b[30m32        | \u001b[30m0.8055    | \u001b[30m18.77     | \u001b[30m1.352     |\n",
      "| \u001b[30m33        | \u001b[30m0.7824    | \u001b[30m18.05     | \u001b[30m1.761     |\n",
      "| \u001b[35m34        | \u001b[35m0.8159    | \u001b[35m18.95     | \u001b[35m0.5577    |\n",
      "| \u001b[30m35        | \u001b[30m0.8055    | \u001b[30m19.73     | \u001b[30m0.878     |\n",
      "=================================================\n",
      "Accuracy of the best SVM: 0.7500\n"
     ]
    }
   ],
   "source": [
    "# Define svm_cv function to be maximized and include hyperparameters for tuning for SVM model\n",
    "def svm_cv(C, gamma):\n",
    "    estimator = SVC(\n",
    "        C=C,\n",
    "        gamma=gamma,\n",
    "        random_state=42\n",
    "    )\n",
    "    # Apply 5-fold cross-validation\n",
    "    cval = cross_val_score(estimator, X_train, Y_train, scoring='accuracy', cv=5)\n",
    "    return cval.mean()\n",
    "\n",
    "params = {\n",
    "    'C': (0.001, 100),\n",
    "    'gamma': (0.0001, 5)\n",
    "}\n",
    "\n",
    "# Run Bayesian Optimization\n",
    "optimizer = BayesianOptimization(f=svm_cv, pbounds=params, random_state=42)\n",
    "optimizer.maximize(init_points=10, n_iter=25)\n",
    "\n",
    "# Extract the best hyperparameters\n",
    "best_params = optimizer.max['params']\n",
    "\n",
    "# Train SVM model with selected best hyperparameters\n",
    "best_svm = SVC(**best_params, random_state=42)\n",
    "best_svm.fit(X_train, Y_train)\n",
    "\n",
    "predictions = best_svm.predict(X_test)\n",
    "\n",
    "accuracy_svm = accuracy_score(Y_test, predictions)\n",
    "print(f\"Accuracy of the best SVM: {accuracy_svm:.4f}\")"
   ]
  },
  {
   "cell_type": "code",
   "execution_count": 52,
   "id": "9b3199bc",
   "metadata": {},
   "outputs": [
    {
     "name": "stdout",
     "output_type": "stream",
     "text": [
      "Accuracy of the Neural Network: 0.7667\n"
     ]
    }
   ],
   "source": [
    "# Fit Neural Network model\n",
    "nn_model = MLPClassifier(hidden_layer_sizes=(100,), activation='relu', solver='adam',\n",
    "                         alpha=0.01, batch_size=32, learning_rate='constant',\n",
    "                         learning_rate_init=0.01, max_iter=300, random_state=42)\n",
    "\n",
    "nn_model.fit(X_train, Y_train)\n",
    "\n",
    "nn_predictions = nn_model.predict(X_test)\n",
    "\n",
    "\n",
    "accuracy_nn = accuracy_score(Y_test, nn_predictions)\n",
    "print(f\"Accuracy of the Neural Network: {accuracy_nn:.4f}\")"
   ]
  },
  {
   "cell_type": "code",
   "execution_count": 53,
   "id": "6efba39d",
   "metadata": {},
   "outputs": [
    {
     "name": "stdout",
     "output_type": "stream",
     "text": [
      "                      Model  Accuracy\n",
      "0       Logistic Regression  0.766667\n",
      "1  Decision Tree Classifier  0.766667\n",
      "2             Random Forest  0.766667\n",
      "3       AdaBoost Classifier  0.700000\n",
      "4       CatBoost Classifier  0.758333\n",
      "5        XGBoost Classifier  0.733333\n",
      "6            SVM Classifier  0.750000\n",
      "7      Neural Network Model  0.766667\n"
     ]
    }
   ],
   "source": [
    "accuracies_b = {\n",
    "    'Model': ['Logistic Regression','Decision Tree Classifier','Random Forest','AdaBoost Classifier', 'CatBoost Classifier', 'XGBoost Classifier', 'SVM Classifier', 'Neural Network Model'],\n",
    "    'Accuracy': [accuracy_log, accuracy_dtree, accuracy_rf, ada_accuracy, cat_accuracy, xgb_accuracy, accuracy_svm, accuracy_nn]\n",
    "}\n",
    "\n",
    "df_acc = pd.DataFrame(accuracies_b)\n",
    "\n",
    "print(df_acc)"
   ]
  },
  {
   "cell_type": "code",
   "execution_count": null,
   "id": "9e6ec86e",
   "metadata": {},
   "outputs": [],
   "source": [
    " "
   ]
  }
 ],
 "metadata": {
  "kernelspec": {
   "display_name": "Python 3 (ipykernel)",
   "language": "python",
   "name": "python3"
  },
  "language_info": {
   "codemirror_mode": {
    "name": "ipython",
    "version": 3
   },
   "file_extension": ".py",
   "mimetype": "text/x-python",
   "name": "python",
   "nbconvert_exporter": "python",
   "pygments_lexer": "ipython3",
   "version": "3.11.4"
  }
 },
 "nbformat": 4,
 "nbformat_minor": 5
}
